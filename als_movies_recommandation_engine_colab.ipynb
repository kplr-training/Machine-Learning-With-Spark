{
  "cells": [
    {
      "cell_type": "code",
      "source": [
        "# Install pyspark\n",
        "!pip install pyspark"
      ],
      "metadata": {
        "colab": {
          "base_uri": "https://localhost:8080/"
        },
        "id": "U7Lof2J5bD_i",
        "outputId": "314d1f71-c462-4674-e139-5d3614877ae2"
      },
      "execution_count": 1,
      "outputs": [
        {
          "output_type": "stream",
          "name": "stdout",
          "text": [
            "Looking in indexes: https://pypi.org/simple, https://us-python.pkg.dev/colab-wheels/public/simple/\n",
            "Collecting pyspark\n",
            "  Downloading pyspark-3.3.2.tar.gz (281.4 MB)\n",
            "\u001b[2K     \u001b[90m━━━━━━━━━━━━━━━━━━━━━━━━━━━━━━━━━━━━━━━\u001b[0m \u001b[32m281.4/281.4 MB\u001b[0m \u001b[31m2.4 MB/s\u001b[0m eta \u001b[36m0:00:00\u001b[0m\n",
            "\u001b[?25h  Preparing metadata (setup.py) ... \u001b[?25l\u001b[?25hdone\n",
            "Collecting py4j==0.10.9.5\n",
            "  Downloading py4j-0.10.9.5-py2.py3-none-any.whl (199 kB)\n",
            "\u001b[2K     \u001b[90m━━━━━━━━━━━━━━━━━━━━━━━━━━━━━━━━━━━━━━\u001b[0m \u001b[32m199.7/199.7 KB\u001b[0m \u001b[31m11.0 MB/s\u001b[0m eta \u001b[36m0:00:00\u001b[0m\n",
            "\u001b[?25hBuilding wheels for collected packages: pyspark\n",
            "  Building wheel for pyspark (setup.py) ... \u001b[?25l\u001b[?25hdone\n",
            "  Created wheel for pyspark: filename=pyspark-3.3.2-py2.py3-none-any.whl size=281824028 sha256=b610881791329d6cf004d8ee7b031e446005572f8e95b8b82498648377fcaa91\n",
            "  Stored in directory: /root/.cache/pip/wheels/6c/e3/9b/0525ce8a69478916513509d43693511463c6468db0de237c86\n",
            "Successfully built pyspark\n",
            "Installing collected packages: py4j, pyspark\n",
            "  Attempting uninstall: py4j\n",
            "    Found existing installation: py4j 0.10.9.7\n",
            "    Uninstalling py4j-0.10.9.7:\n",
            "      Successfully uninstalled py4j-0.10.9.7\n",
            "Successfully installed py4j-0.10.9.5 pyspark-3.3.2\n"
          ]
        }
      ]
    },
    {
      "cell_type": "code",
      "execution_count": 2,
      "metadata": {
        "id": "00gtzN8Hab8u"
      },
      "outputs": [],
      "source": [
        "from pyspark.sql.types import *\n",
        "import pandas as pd\n",
        "pd.options.display.max_columns = None\n",
        "from pyspark.sql.functions import *"
      ]
    },
    {
      "cell_type": "code",
      "source": [
        "from pyspark.context import SparkContext\n",
        "from pyspark.sql.session import SparkSession\n",
        "sc = SparkContext('local')\n",
        "spark = SparkSession(sc)"
      ],
      "metadata": {
        "id": "gzEvz0S5c288"
      },
      "execution_count": 3,
      "outputs": []
    },
    {
      "cell_type": "markdown",
      "metadata": {
        "id": "LrrzowWlab8v"
      },
      "source": [
        "<hr style=\"border:1px solid blue\"></hr>"
      ]
    },
    {
      "cell_type": "markdown",
      "metadata": {
        "id": "5ZDPRe4dab8w"
      },
      "source": [
        "### LOADING DATA"
      ]
    },
    {
      "cell_type": "markdown",
      "metadata": {
        "id": "XWLgODY2ab8w"
      },
      "source": [
        "#### Download Dataset & Load into HDFS"
      ]
    },
    {
      "cell_type": "markdown",
      "metadata": {
        "id": "rnqoJZS9ab8w"
      },
      "source": [
        "```\n",
        "sudo su \n",
        "cd \n",
        "mkdir mov\n",
        "cd mov\n",
        "\n",
        "wget http://files.grouplens.org/datasets/movielens/ml-latest.zip\n",
        "unzip ml-latest.zip\n",
        "rm -f ml-latest.zip\n",
        "\n",
        "hdfs dfs -mkdir /user/root/data/\n",
        "hdfs dfs -mkdir /user/root/data/MOV/\n",
        "hdfs dfs -mkdir /user/root/data/MOV/CSV\n",
        "\n",
        "hdfs dfs -put ml-latest/* /user/root/data/MOV/CSV\n",
        "```\n"
      ]
    },
    {
      "cell_type": "code",
      "source": [
        "!wget http://files.grouplens.org/datasets/movielens/ml-latest.zip\n",
        "!unzip ml-latest.zip\n",
        "!rm -f ml-latest.zip"
      ],
      "metadata": {
        "colab": {
          "base_uri": "https://localhost:8080/"
        },
        "id": "WzUGS8bGbm_Y",
        "outputId": "f0b90217-2576-4ebc-ae3b-51a4bdc2c935"
      },
      "execution_count": 4,
      "outputs": [
        {
          "output_type": "stream",
          "name": "stdout",
          "text": [
            "--2023-04-09 01:40:05--  http://files.grouplens.org/datasets/movielens/ml-latest.zip\n",
            "Resolving files.grouplens.org (files.grouplens.org)... 128.101.65.152\n",
            "Connecting to files.grouplens.org (files.grouplens.org)|128.101.65.152|:80... connected.\n",
            "HTTP request sent, awaiting response... 200 OK\n",
            "Length: 277113433 (264M) [application/zip]\n",
            "Saving to: ‘ml-latest.zip’\n",
            "\n",
            "ml-latest.zip       100%[===================>] 264.28M  78.1MB/s    in 3.6s    \n",
            "\n",
            "2023-04-09 01:40:09 (72.7 MB/s) - ‘ml-latest.zip’ saved [277113433/277113433]\n",
            "\n",
            "Archive:  ml-latest.zip\n",
            "   creating: ml-latest/\n",
            "  inflating: ml-latest/links.csv     \n",
            "  inflating: ml-latest/tags.csv      \n",
            "  inflating: ml-latest/genome-tags.csv  \n",
            "  inflating: ml-latest/ratings.csv   \n",
            "  inflating: ml-latest/README.txt    \n",
            "  inflating: ml-latest/genome-scores.csv  \n",
            "  inflating: ml-latest/movies.csv    \n"
          ]
        }
      ]
    },
    {
      "cell_type": "markdown",
      "metadata": {
        "id": "SU91grWVab8x"
      },
      "source": [
        "#### Define schema for Movies Dataset\n"
      ]
    },
    {
      "cell_type": "code",
      "execution_count": 5,
      "metadata": {
        "id": "qg9ZZzHjab8x"
      },
      "outputs": [],
      "source": [
        "moviesStruct = [StructField(\"movieId\", IntegerType(), True),\n",
        "    StructField(\"title\", StringType(), True),\n",
        "    StructField(\"genres\", StringType(), True)]\n",
        "\n",
        "moviesSchema = StructType(moviesStruct)"
      ]
    },
    {
      "cell_type": "markdown",
      "metadata": {
        "id": "bDV21WN4ab8x"
      },
      "source": [
        "#### Read Movies dataframe from HDFS"
      ]
    },
    {
      "cell_type": "code",
      "execution_count": 6,
      "metadata": {
        "id": "9NfPW79hab8x"
      },
      "outputs": [],
      "source": [
        "# Read movies from HDFS as CSV (FIRST TIME ONLY)\n",
        "\n",
        "moviesDF = spark.read.format(\"csv\") \\\n",
        "    .option(\"header\", \"true\") \\\n",
        "    .option(\"delimiter\", \",\") \\\n",
        "    .schema(moviesSchema) \\\n",
        "    .load(\"/content/ml-latest/movies.csv\")\n",
        "#   .load(\"hdfs:///user/root/data/MOV/CSV/movies.csv\")"
      ]
    },
    {
      "cell_type": "code",
      "source": [
        "moviesDF"
      ],
      "metadata": {
        "colab": {
          "base_uri": "https://localhost:8080/"
        },
        "id": "cl3odWSlc8Tn",
        "outputId": "b2072d03-68f0-4421-c6c8-2cb8a5a30d5b"
      },
      "execution_count": 7,
      "outputs": [
        {
          "output_type": "execute_result",
          "data": {
            "text/plain": [
              "DataFrame[movieId: int, title: string, genres: string]"
            ]
          },
          "metadata": {},
          "execution_count": 7
        }
      ]
    },
    {
      "cell_type": "code",
      "source": [
        "display(moviesDF)"
      ],
      "metadata": {
        "colab": {
          "base_uri": "https://localhost:8080/",
          "height": 34
        },
        "id": "aH-is25yc_Y4",
        "outputId": "b92cc398-786e-4e73-ed71-14eac96bbc3d"
      },
      "execution_count": 8,
      "outputs": [
        {
          "output_type": "display_data",
          "data": {
            "text/plain": [
              "DataFrame[movieId: int, title: string, genres: string]"
            ]
          },
          "metadata": {}
        }
      ]
    },
    {
      "cell_type": "markdown",
      "metadata": {
        "id": "LC8mTdybab8x"
      },
      "source": [
        "#### Write Movies Dataframe to Parquet File"
      ]
    },
    {
      "cell_type": "code",
      "execution_count": 9,
      "metadata": {
        "id": "g7K_kEsVab8y"
      },
      "outputs": [],
      "source": [
        "#moviesDF.write.parquet(\"hdfs:///user/root/data/MOV/PARQUET/movies.parquet\")\n",
        "moviesDF.write.parquet(\"/content/ml-latest/movies.parquet\")"
      ]
    },
    {
      "cell_type": "markdown",
      "metadata": {
        "id": "bA_UG6pzab8y"
      },
      "source": [
        "#### Reload Movies Dataframe From Parquet File "
      ]
    },
    {
      "cell_type": "code",
      "execution_count": 10,
      "metadata": {
        "id": "YI6H8xGcab8y"
      },
      "outputs": [],
      "source": [
        "# (everytime after the first export to PARQUET)\n",
        "\n",
        "# moviesDF = spark.read.parquet(\"hdfs:///user/root/data/MOV/PARQUET/movies.parquet\")\n",
        "moviesDF = spark.read.parquet(\"/content/ml-latest/movies.parquet\")"
      ]
    },
    {
      "cell_type": "markdown",
      "metadata": {
        "id": "Baa1tgjZab8y"
      },
      "source": [
        "#### Make Use of Caching Features"
      ]
    },
    {
      "cell_type": "code",
      "execution_count": 11,
      "metadata": {
        "colab": {
          "base_uri": "https://localhost:8080/"
        },
        "id": "hT0QZsA1ab8z",
        "outputId": "58e7492c-3221-4eb8-d729-59415c89bfb8"
      },
      "outputs": [
        {
          "output_type": "execute_result",
          "data": {
            "text/plain": [
              "DataFrame[movieId: int, title: string, genres: string]"
            ]
          },
          "metadata": {},
          "execution_count": 11
        }
      ],
      "source": [
        "# caching might be aof great help for crossvalidation -among others\n",
        "# read caching comment for ratingsDF below\n",
        "\n",
        "moviesDF.cache()"
      ]
    },
    {
      "cell_type": "markdown",
      "metadata": {
        "id": "uaWJLyw0ab8z"
      },
      "source": [
        "#### Define schema for Ratings Dataset"
      ]
    },
    {
      "cell_type": "code",
      "execution_count": 12,
      "metadata": {
        "id": "IhtYzSs8ab8z"
      },
      "outputs": [],
      "source": [
        "# Define schema for ratings dataset\n",
        "ratingsStruct = [StructField(\"userId\", IntegerType(), True),\n",
        "    StructField(\"movieId\", IntegerType(), True),\n",
        "    StructField(\"rating\", DoubleType(), True),\n",
        "    StructField(\"timestamp\", IntegerType(), True)]\n",
        "\n",
        "ratingsSchema = StructType(ratingsStruct)"
      ]
    },
    {
      "cell_type": "markdown",
      "metadata": {
        "id": "kG_F2LxAab8z"
      },
      "source": [
        "#### Read Ratings Dataframe from HDFS"
      ]
    },
    {
      "cell_type": "code",
      "execution_count": 13,
      "metadata": {
        "colab": {
          "base_uri": "https://localhost:8080/",
          "height": 363
        },
        "id": "iXMybEipab8z",
        "outputId": "85dcc061-3997-482c-e645-ae9df40eb553"
      },
      "outputs": [
        {
          "output_type": "execute_result",
          "data": {
            "text/plain": [
              "   userId  movieId  rating   timestamp\n",
              "0       1      307     3.5  1256677221\n",
              "1       1      481     3.5  1256677456\n",
              "2       1     1091     1.5  1256677471\n",
              "3       1     1257     4.5  1256677460\n",
              "4       1     1449     4.5  1256677264\n",
              "5       1     1590     2.5  1256677236\n",
              "6       1     1591     1.5  1256677475\n",
              "7       1     2134     4.5  1256677464\n",
              "8       1     2478     4.0  1256677239\n",
              "9       1     2840     3.0  1256677500"
            ],
            "text/html": [
              "\n",
              "  <div id=\"df-e6dd1a3d-8bf6-4d03-8be6-53e9485058d6\">\n",
              "    <div class=\"colab-df-container\">\n",
              "      <div>\n",
              "<style scoped>\n",
              "    .dataframe tbody tr th:only-of-type {\n",
              "        vertical-align: middle;\n",
              "    }\n",
              "\n",
              "    .dataframe tbody tr th {\n",
              "        vertical-align: top;\n",
              "    }\n",
              "\n",
              "    .dataframe thead th {\n",
              "        text-align: right;\n",
              "    }\n",
              "</style>\n",
              "<table border=\"1\" class=\"dataframe\">\n",
              "  <thead>\n",
              "    <tr style=\"text-align: right;\">\n",
              "      <th></th>\n",
              "      <th>userId</th>\n",
              "      <th>movieId</th>\n",
              "      <th>rating</th>\n",
              "      <th>timestamp</th>\n",
              "    </tr>\n",
              "  </thead>\n",
              "  <tbody>\n",
              "    <tr>\n",
              "      <th>0</th>\n",
              "      <td>1</td>\n",
              "      <td>307</td>\n",
              "      <td>3.5</td>\n",
              "      <td>1256677221</td>\n",
              "    </tr>\n",
              "    <tr>\n",
              "      <th>1</th>\n",
              "      <td>1</td>\n",
              "      <td>481</td>\n",
              "      <td>3.5</td>\n",
              "      <td>1256677456</td>\n",
              "    </tr>\n",
              "    <tr>\n",
              "      <th>2</th>\n",
              "      <td>1</td>\n",
              "      <td>1091</td>\n",
              "      <td>1.5</td>\n",
              "      <td>1256677471</td>\n",
              "    </tr>\n",
              "    <tr>\n",
              "      <th>3</th>\n",
              "      <td>1</td>\n",
              "      <td>1257</td>\n",
              "      <td>4.5</td>\n",
              "      <td>1256677460</td>\n",
              "    </tr>\n",
              "    <tr>\n",
              "      <th>4</th>\n",
              "      <td>1</td>\n",
              "      <td>1449</td>\n",
              "      <td>4.5</td>\n",
              "      <td>1256677264</td>\n",
              "    </tr>\n",
              "    <tr>\n",
              "      <th>5</th>\n",
              "      <td>1</td>\n",
              "      <td>1590</td>\n",
              "      <td>2.5</td>\n",
              "      <td>1256677236</td>\n",
              "    </tr>\n",
              "    <tr>\n",
              "      <th>6</th>\n",
              "      <td>1</td>\n",
              "      <td>1591</td>\n",
              "      <td>1.5</td>\n",
              "      <td>1256677475</td>\n",
              "    </tr>\n",
              "    <tr>\n",
              "      <th>7</th>\n",
              "      <td>1</td>\n",
              "      <td>2134</td>\n",
              "      <td>4.5</td>\n",
              "      <td>1256677464</td>\n",
              "    </tr>\n",
              "    <tr>\n",
              "      <th>8</th>\n",
              "      <td>1</td>\n",
              "      <td>2478</td>\n",
              "      <td>4.0</td>\n",
              "      <td>1256677239</td>\n",
              "    </tr>\n",
              "    <tr>\n",
              "      <th>9</th>\n",
              "      <td>1</td>\n",
              "      <td>2840</td>\n",
              "      <td>3.0</td>\n",
              "      <td>1256677500</td>\n",
              "    </tr>\n",
              "  </tbody>\n",
              "</table>\n",
              "</div>\n",
              "      <button class=\"colab-df-convert\" onclick=\"convertToInteractive('df-e6dd1a3d-8bf6-4d03-8be6-53e9485058d6')\"\n",
              "              title=\"Convert this dataframe to an interactive table.\"\n",
              "              style=\"display:none;\">\n",
              "        \n",
              "  <svg xmlns=\"http://www.w3.org/2000/svg\" height=\"24px\"viewBox=\"0 0 24 24\"\n",
              "       width=\"24px\">\n",
              "    <path d=\"M0 0h24v24H0V0z\" fill=\"none\"/>\n",
              "    <path d=\"M18.56 5.44l.94 2.06.94-2.06 2.06-.94-2.06-.94-.94-2.06-.94 2.06-2.06.94zm-11 1L8.5 8.5l.94-2.06 2.06-.94-2.06-.94L8.5 2.5l-.94 2.06-2.06.94zm10 10l.94 2.06.94-2.06 2.06-.94-2.06-.94-.94-2.06-.94 2.06-2.06.94z\"/><path d=\"M17.41 7.96l-1.37-1.37c-.4-.4-.92-.59-1.43-.59-.52 0-1.04.2-1.43.59L10.3 9.45l-7.72 7.72c-.78.78-.78 2.05 0 2.83L4 21.41c.39.39.9.59 1.41.59.51 0 1.02-.2 1.41-.59l7.78-7.78 2.81-2.81c.8-.78.8-2.07 0-2.86zM5.41 20L4 18.59l7.72-7.72 1.47 1.35L5.41 20z\"/>\n",
              "  </svg>\n",
              "      </button>\n",
              "      \n",
              "  <style>\n",
              "    .colab-df-container {\n",
              "      display:flex;\n",
              "      flex-wrap:wrap;\n",
              "      gap: 12px;\n",
              "    }\n",
              "\n",
              "    .colab-df-convert {\n",
              "      background-color: #E8F0FE;\n",
              "      border: none;\n",
              "      border-radius: 50%;\n",
              "      cursor: pointer;\n",
              "      display: none;\n",
              "      fill: #1967D2;\n",
              "      height: 32px;\n",
              "      padding: 0 0 0 0;\n",
              "      width: 32px;\n",
              "    }\n",
              "\n",
              "    .colab-df-convert:hover {\n",
              "      background-color: #E2EBFA;\n",
              "      box-shadow: 0px 1px 2px rgba(60, 64, 67, 0.3), 0px 1px 3px 1px rgba(60, 64, 67, 0.15);\n",
              "      fill: #174EA6;\n",
              "    }\n",
              "\n",
              "    [theme=dark] .colab-df-convert {\n",
              "      background-color: #3B4455;\n",
              "      fill: #D2E3FC;\n",
              "    }\n",
              "\n",
              "    [theme=dark] .colab-df-convert:hover {\n",
              "      background-color: #434B5C;\n",
              "      box-shadow: 0px 1px 3px 1px rgba(0, 0, 0, 0.15);\n",
              "      filter: drop-shadow(0px 1px 2px rgba(0, 0, 0, 0.3));\n",
              "      fill: #FFFFFF;\n",
              "    }\n",
              "  </style>\n",
              "\n",
              "      <script>\n",
              "        const buttonEl =\n",
              "          document.querySelector('#df-e6dd1a3d-8bf6-4d03-8be6-53e9485058d6 button.colab-df-convert');\n",
              "        buttonEl.style.display =\n",
              "          google.colab.kernel.accessAllowed ? 'block' : 'none';\n",
              "\n",
              "        async function convertToInteractive(key) {\n",
              "          const element = document.querySelector('#df-e6dd1a3d-8bf6-4d03-8be6-53e9485058d6');\n",
              "          const dataTable =\n",
              "            await google.colab.kernel.invokeFunction('convertToInteractive',\n",
              "                                                     [key], {});\n",
              "          if (!dataTable) return;\n",
              "\n",
              "          const docLinkHtml = 'Like what you see? Visit the ' +\n",
              "            '<a target=\"_blank\" href=https://colab.research.google.com/notebooks/data_table.ipynb>data table notebook</a>'\n",
              "            + ' to learn more about interactive tables.';\n",
              "          element.innerHTML = '';\n",
              "          dataTable['output_type'] = 'display_data';\n",
              "          await google.colab.output.renderOutput(dataTable, element);\n",
              "          const docLink = document.createElement('div');\n",
              "          docLink.innerHTML = docLinkHtml;\n",
              "          element.appendChild(docLink);\n",
              "        }\n",
              "      </script>\n",
              "    </div>\n",
              "  </div>\n",
              "  "
            ]
          },
          "metadata": {},
          "execution_count": 13
        }
      ],
      "source": [
        "# Read ratings from HDFS (FIRST TIME ONLY)\n",
        "ratingsDF = spark.read.format(\"csv\") \\\n",
        "    .option(\"header\", \"true\") \\\n",
        "    .option(\"delimiter\", \",\") \\\n",
        "    .schema(ratingsSchema) \\\n",
        "    .load(\"/content/ml-latest/ratings.csv\")\n",
        "#    .load(\"hdfs:///user/root/data/MOV/CSV/ratings.csv\")\n",
        "\n",
        "ratingsDF.limit(10).toPandas()"
      ]
    },
    {
      "cell_type": "markdown",
      "metadata": {
        "id": "pjcKnvY0ab80"
      },
      "source": [
        "#### Write Ratings Dataframe to Parquet File"
      ]
    },
    {
      "cell_type": "code",
      "execution_count": 14,
      "metadata": {
        "id": "CVil6oFkab80"
      },
      "outputs": [],
      "source": [
        "# ratingsDF.write.parquet(\"hdfs:///user/root/data/MOV/PARQUET/ratings.parquet\")\n",
        "ratingsDF.write.parquet(\"/content/ml-latest/ratings.parquet\")"
      ]
    },
    {
      "cell_type": "markdown",
      "metadata": {
        "id": "qlvaYIbFab80"
      },
      "source": [
        "#### Reload Ratings Dataframe From Parquet File "
      ]
    },
    {
      "cell_type": "code",
      "execution_count": 15,
      "metadata": {
        "scrolled": true,
        "id": "un5kulNUab80"
      },
      "outputs": [],
      "source": [
        "# LOAD RATINGS From Parquet File (everytime after the first export to PARQUEY)\n",
        "\n",
        "# ratingsDF = spark.read.parquet(\"hdfs:///user/root/data/MOV/PARQUET/ratings.parquet\").drop(\"timestamp\")\n",
        "ratingsDF = spark.read.parquet(\"/content/ml-latest/ratings.parquet\").drop(\"timestamp\")"
      ]
    },
    {
      "cell_type": "markdown",
      "metadata": {
        "id": "bD-JY5J8ab81"
      },
      "source": [
        "#### Make Use of Caching Features"
      ]
    },
    {
      "cell_type": "code",
      "execution_count": 16,
      "metadata": {
        "scrolled": true,
        "colab": {
          "base_uri": "https://localhost:8080/"
        },
        "id": "VBLsPwPhab81",
        "outputId": "d4c1b105-a7fe-42ae-9fe4-02f6f95874a5"
      },
      "outputs": [
        {
          "output_type": "execute_result",
          "data": {
            "text/plain": [
              "DataFrame[userId: int, movieId: int, rating: double]"
            ]
          },
          "metadata": {},
          "execution_count": 16
        }
      ],
      "source": [
        "# Caching might be of great help - especially for crossvalidation -among others\n",
        "# it is recommended for RDD re-use in iterative machine learning applications\n",
        "# Check the size of your data on disk, and the total memory available to spark\n",
        "# to see how much of your data fits into memory\n",
        "# If the RDD does not fit in memory, some partitions will not be cached and will be recomputed on the fly each time they're needed. \n",
        "\n",
        "ratingsDF.cache()"
      ]
    },
    {
      "cell_type": "markdown",
      "metadata": {
        "id": "xh1GTSOnab81"
      },
      "source": [
        "<hr style=\"border:1px solid blue\"></hr>"
      ]
    },
    {
      "cell_type": "markdown",
      "metadata": {
        "id": "O0wrW5jKab81"
      },
      "source": [
        "### Data Exploration & Filtering"
      ]
    },
    {
      "cell_type": "markdown",
      "metadata": {
        "id": "MOVUUX6Lab81"
      },
      "source": [
        "#### Select Users Dataframe"
      ]
    },
    {
      "cell_type": "code",
      "execution_count": 17,
      "metadata": {
        "id": "Z6TZ_u_vab81"
      },
      "outputs": [],
      "source": [
        "# Unique Users Id :\n",
        "usersDF = ratingsDF.select(\"userId\").distinct()"
      ]
    },
    {
      "cell_type": "code",
      "execution_count": 18,
      "metadata": {
        "scrolled": false,
        "colab": {
          "base_uri": "https://localhost:8080/"
        },
        "id": "QY7iptVNab81",
        "outputId": "6997a660-e9f7-4662-fc2a-43b20a902e6c"
      },
      "outputs": [
        {
          "output_type": "execute_result",
          "data": {
            "text/plain": [
              "283228"
            ]
          },
          "metadata": {},
          "execution_count": 18
        }
      ],
      "source": [
        "# Total User Count\n",
        "\n",
        "usersDF.count()"
      ]
    },
    {
      "cell_type": "code",
      "execution_count": 19,
      "metadata": {
        "scrolled": true,
        "colab": {
          "base_uri": "https://localhost:8080/"
        },
        "id": "hd3-RH7Eab82",
        "outputId": "c82227e4-ebf3-4bde-ce2a-09e1ae1fd58e"
      },
      "outputs": [
        {
          "output_type": "execute_result",
          "data": {
            "text/plain": [
              "['userId']"
            ]
          },
          "metadata": {},
          "execution_count": 19
        }
      ],
      "source": [
        "usersDF.columns"
      ]
    },
    {
      "cell_type": "markdown",
      "metadata": {
        "id": "F1gWo-Eiab82"
      },
      "source": [
        "#### Group Rating Count by Users"
      ]
    },
    {
      "cell_type": "code",
      "execution_count": 20,
      "metadata": {
        "scrolled": true,
        "colab": {
          "base_uri": "https://localhost:8080/"
        },
        "id": "IgsZ__bSab82",
        "outputId": "092eca52-5934-4bbc-be01-9cbef2111f17"
      },
      "outputs": [
        {
          "output_type": "stream",
          "name": "stdout",
          "text": [
            "+------+-----+\n",
            "|userId|count|\n",
            "+------+-----+\n",
            "|148   |48   |\n",
            "|463   |92   |\n",
            "|471   |363  |\n",
            "|496   |31   |\n",
            "|833   |17   |\n",
            "|1088  |5    |\n",
            "|1238  |5    |\n",
            "|1342  |3    |\n",
            "|1580  |33   |\n",
            "|1591  |52   |\n",
            "+------+-----+\n",
            "only showing top 10 rows\n",
            "\n"
          ]
        }
      ],
      "source": [
        "ratingsDF.groupBy(\"userId\").count().show(10, False)"
      ]
    },
    {
      "cell_type": "code",
      "execution_count": 21,
      "metadata": {
        "colab": {
          "base_uri": "https://localhost:8080/"
        },
        "id": "ZNbboPXRab82",
        "outputId": "9c820b23-9ad5-4006-bcb6-81ca92071830"
      },
      "outputs": [
        {
          "output_type": "stream",
          "name": "stdout",
          "text": [
            "Got 27753444 ratings from 283228 users on 58098 movies.\n"
          ]
        }
      ],
      "source": [
        "# Summary \n",
        "# Got 1000209 ratings from 6040 users on 3883 movies.\n",
        "print(\"Got {} ratings from {} users on {} movies.\".format(ratingsDF.count(), usersDF.count(), moviesDF.count()))"
      ]
    },
    {
      "cell_type": "code",
      "execution_count": 22,
      "metadata": {
        "scrolled": true,
        "colab": {
          "base_uri": "https://localhost:8080/"
        },
        "id": "GJe3s6o8ab82",
        "outputId": "6e08d250-2133-45f5-9ab7-575ffca7d6fd"
      },
      "outputs": [
        {
          "output_type": "execute_result",
          "data": {
            "text/plain": [
              "['userId', 'movieId', 'rating']"
            ]
          },
          "metadata": {},
          "execution_count": 22
        }
      ],
      "source": [
        "ratingsDF.columns"
      ]
    },
    {
      "cell_type": "markdown",
      "metadata": {
        "id": "-UOdHOi6ab82"
      },
      "source": [
        "#### Select Max User ID \n",
        "This will be useful for user incrementation"
      ]
    },
    {
      "cell_type": "code",
      "execution_count": 23,
      "metadata": {
        "scrolled": false,
        "colab": {
          "base_uri": "https://localhost:8080/"
        },
        "id": "JnYt1QxHab82",
        "outputId": "c85cb020-5196-4c5c-b51a-aae9b472f067"
      },
      "outputs": [
        {
          "output_type": "execute_result",
          "data": {
            "text/plain": [
              "283228"
            ]
          },
          "metadata": {},
          "execution_count": 23
        }
      ],
      "source": [
        "ratingsDF.agg({\"userId\": \"max\"}).collect()[0][0]"
      ]
    },
    {
      "cell_type": "code",
      "execution_count": 24,
      "metadata": {
        "scrolled": true,
        "colab": {
          "base_uri": "https://localhost:8080/"
        },
        "id": "QqPmY1g0ab83",
        "outputId": "896e9d92-0aee-499e-ab72-02e387fba76b"
      },
      "outputs": [
        {
          "output_type": "execute_result",
          "data": {
            "text/plain": [
              "StructType([StructField('userId', IntegerType(), True), StructField('movieId', IntegerType(), True), StructField('rating', DoubleType(), True)])"
            ]
          },
          "metadata": {},
          "execution_count": 24
        }
      ],
      "source": [
        "ratingsDF.schema"
      ]
    },
    {
      "cell_type": "markdown",
      "metadata": {
        "id": "ANbMgOJxab83"
      },
      "source": [
        "#### Create Ratings View"
      ]
    },
    {
      "cell_type": "code",
      "execution_count": 25,
      "metadata": {
        "id": "YwIAfkB-ab83"
      },
      "outputs": [],
      "source": [
        "ratingsDF.createTempView(\"RATING\")"
      ]
    },
    {
      "cell_type": "markdown",
      "metadata": {
        "id": "FEbo6_gkab83"
      },
      "source": [
        "#### Use SQL to select Ratings for a specific User"
      ]
    },
    {
      "cell_type": "code",
      "execution_count": 27,
      "metadata": {
        "scrolled": true,
        "id": "9_0l_4J6ab83"
      },
      "outputs": [],
      "source": [
        "#%%sql\n",
        "#select * from RATING where userId = 283228"
      ]
    },
    {
      "cell_type": "code",
      "execution_count": 28,
      "metadata": {
        "id": "soaX4jsDab83"
      },
      "outputs": [],
      "source": [
        "#%%sql\n",
        "#select count(*) from RATING where userId = 283228"
      ]
    },
    {
      "cell_type": "markdown",
      "metadata": {
        "id": "GccuXSz-ab83"
      },
      "source": [
        "#### Create a Sample Dataframe \n",
        "(example)"
      ]
    },
    {
      "cell_type": "code",
      "execution_count": 29,
      "metadata": {
        "scrolled": false,
        "id": "KfGNRNc0ab83"
      },
      "outputs": [],
      "source": [
        "sampleDF = moviesDF.sample(fraction=0.001)"
      ]
    },
    {
      "cell_type": "markdown",
      "metadata": {
        "id": "Bxd4ts2Jab83"
      },
      "source": [
        "<hr style=\"border:1px solid blue\"></hr>"
      ]
    },
    {
      "cell_type": "markdown",
      "metadata": {
        "id": "gQOtIIllab84"
      },
      "source": [
        "### Exploring Movies Dataset "
      ]
    },
    {
      "cell_type": "markdown",
      "metadata": {
        "id": "IF7lHO6zab84"
      },
      "source": [
        "#### Select Comedy Movies Only"
      ]
    },
    {
      "cell_type": "code",
      "execution_count": 30,
      "metadata": {
        "scrolled": true,
        "colab": {
          "base_uri": "https://localhost:8080/",
          "height": 363
        },
        "id": "OPbEj4Kdab84",
        "outputId": "8d78208e-ca6d-4b67-c110-d587c9350a2b"
      },
      "outputs": [
        {
          "output_type": "execute_result",
          "data": {
            "text/plain": [
              "   movieId                                  title  \\\n",
              "0        1                       Toy Story (1995)   \n",
              "1        3                Grumpier Old Men (1995)   \n",
              "2        4               Waiting to Exhale (1995)   \n",
              "3        5     Father of the Bride Part II (1995)   \n",
              "4        7                         Sabrina (1995)   \n",
              "5       11         American President, The (1995)   \n",
              "6       12     Dracula: Dead and Loving It (1995)   \n",
              "7       18                      Four Rooms (1995)   \n",
              "8       19  Ace Ventura: When Nature Calls (1995)   \n",
              "9       20                     Money Train (1995)   \n",
              "\n",
              "                                        genres  \n",
              "0  Adventure|Animation|Children|Comedy|Fantasy  \n",
              "1                               Comedy|Romance  \n",
              "2                         Comedy|Drama|Romance  \n",
              "3                                       Comedy  \n",
              "4                               Comedy|Romance  \n",
              "5                         Comedy|Drama|Romance  \n",
              "6                                Comedy|Horror  \n",
              "7                                       Comedy  \n",
              "8                                       Comedy  \n",
              "9           Action|Comedy|Crime|Drama|Thriller  "
            ],
            "text/html": [
              "\n",
              "  <div id=\"df-1876fa01-1c37-4548-88ac-c199a5b58773\">\n",
              "    <div class=\"colab-df-container\">\n",
              "      <div>\n",
              "<style scoped>\n",
              "    .dataframe tbody tr th:only-of-type {\n",
              "        vertical-align: middle;\n",
              "    }\n",
              "\n",
              "    .dataframe tbody tr th {\n",
              "        vertical-align: top;\n",
              "    }\n",
              "\n",
              "    .dataframe thead th {\n",
              "        text-align: right;\n",
              "    }\n",
              "</style>\n",
              "<table border=\"1\" class=\"dataframe\">\n",
              "  <thead>\n",
              "    <tr style=\"text-align: right;\">\n",
              "      <th></th>\n",
              "      <th>movieId</th>\n",
              "      <th>title</th>\n",
              "      <th>genres</th>\n",
              "    </tr>\n",
              "  </thead>\n",
              "  <tbody>\n",
              "    <tr>\n",
              "      <th>0</th>\n",
              "      <td>1</td>\n",
              "      <td>Toy Story (1995)</td>\n",
              "      <td>Adventure|Animation|Children|Comedy|Fantasy</td>\n",
              "    </tr>\n",
              "    <tr>\n",
              "      <th>1</th>\n",
              "      <td>3</td>\n",
              "      <td>Grumpier Old Men (1995)</td>\n",
              "      <td>Comedy|Romance</td>\n",
              "    </tr>\n",
              "    <tr>\n",
              "      <th>2</th>\n",
              "      <td>4</td>\n",
              "      <td>Waiting to Exhale (1995)</td>\n",
              "      <td>Comedy|Drama|Romance</td>\n",
              "    </tr>\n",
              "    <tr>\n",
              "      <th>3</th>\n",
              "      <td>5</td>\n",
              "      <td>Father of the Bride Part II (1995)</td>\n",
              "      <td>Comedy</td>\n",
              "    </tr>\n",
              "    <tr>\n",
              "      <th>4</th>\n",
              "      <td>7</td>\n",
              "      <td>Sabrina (1995)</td>\n",
              "      <td>Comedy|Romance</td>\n",
              "    </tr>\n",
              "    <tr>\n",
              "      <th>5</th>\n",
              "      <td>11</td>\n",
              "      <td>American President, The (1995)</td>\n",
              "      <td>Comedy|Drama|Romance</td>\n",
              "    </tr>\n",
              "    <tr>\n",
              "      <th>6</th>\n",
              "      <td>12</td>\n",
              "      <td>Dracula: Dead and Loving It (1995)</td>\n",
              "      <td>Comedy|Horror</td>\n",
              "    </tr>\n",
              "    <tr>\n",
              "      <th>7</th>\n",
              "      <td>18</td>\n",
              "      <td>Four Rooms (1995)</td>\n",
              "      <td>Comedy</td>\n",
              "    </tr>\n",
              "    <tr>\n",
              "      <th>8</th>\n",
              "      <td>19</td>\n",
              "      <td>Ace Ventura: When Nature Calls (1995)</td>\n",
              "      <td>Comedy</td>\n",
              "    </tr>\n",
              "    <tr>\n",
              "      <th>9</th>\n",
              "      <td>20</td>\n",
              "      <td>Money Train (1995)</td>\n",
              "      <td>Action|Comedy|Crime|Drama|Thriller</td>\n",
              "    </tr>\n",
              "  </tbody>\n",
              "</table>\n",
              "</div>\n",
              "      <button class=\"colab-df-convert\" onclick=\"convertToInteractive('df-1876fa01-1c37-4548-88ac-c199a5b58773')\"\n",
              "              title=\"Convert this dataframe to an interactive table.\"\n",
              "              style=\"display:none;\">\n",
              "        \n",
              "  <svg xmlns=\"http://www.w3.org/2000/svg\" height=\"24px\"viewBox=\"0 0 24 24\"\n",
              "       width=\"24px\">\n",
              "    <path d=\"M0 0h24v24H0V0z\" fill=\"none\"/>\n",
              "    <path d=\"M18.56 5.44l.94 2.06.94-2.06 2.06-.94-2.06-.94-.94-2.06-.94 2.06-2.06.94zm-11 1L8.5 8.5l.94-2.06 2.06-.94-2.06-.94L8.5 2.5l-.94 2.06-2.06.94zm10 10l.94 2.06.94-2.06 2.06-.94-2.06-.94-.94-2.06-.94 2.06-2.06.94z\"/><path d=\"M17.41 7.96l-1.37-1.37c-.4-.4-.92-.59-1.43-.59-.52 0-1.04.2-1.43.59L10.3 9.45l-7.72 7.72c-.78.78-.78 2.05 0 2.83L4 21.41c.39.39.9.59 1.41.59.51 0 1.02-.2 1.41-.59l7.78-7.78 2.81-2.81c.8-.78.8-2.07 0-2.86zM5.41 20L4 18.59l7.72-7.72 1.47 1.35L5.41 20z\"/>\n",
              "  </svg>\n",
              "      </button>\n",
              "      \n",
              "  <style>\n",
              "    .colab-df-container {\n",
              "      display:flex;\n",
              "      flex-wrap:wrap;\n",
              "      gap: 12px;\n",
              "    }\n",
              "\n",
              "    .colab-df-convert {\n",
              "      background-color: #E8F0FE;\n",
              "      border: none;\n",
              "      border-radius: 50%;\n",
              "      cursor: pointer;\n",
              "      display: none;\n",
              "      fill: #1967D2;\n",
              "      height: 32px;\n",
              "      padding: 0 0 0 0;\n",
              "      width: 32px;\n",
              "    }\n",
              "\n",
              "    .colab-df-convert:hover {\n",
              "      background-color: #E2EBFA;\n",
              "      box-shadow: 0px 1px 2px rgba(60, 64, 67, 0.3), 0px 1px 3px 1px rgba(60, 64, 67, 0.15);\n",
              "      fill: #174EA6;\n",
              "    }\n",
              "\n",
              "    [theme=dark] .colab-df-convert {\n",
              "      background-color: #3B4455;\n",
              "      fill: #D2E3FC;\n",
              "    }\n",
              "\n",
              "    [theme=dark] .colab-df-convert:hover {\n",
              "      background-color: #434B5C;\n",
              "      box-shadow: 0px 1px 3px 1px rgba(0, 0, 0, 0.15);\n",
              "      filter: drop-shadow(0px 1px 2px rgba(0, 0, 0, 0.3));\n",
              "      fill: #FFFFFF;\n",
              "    }\n",
              "  </style>\n",
              "\n",
              "      <script>\n",
              "        const buttonEl =\n",
              "          document.querySelector('#df-1876fa01-1c37-4548-88ac-c199a5b58773 button.colab-df-convert');\n",
              "        buttonEl.style.display =\n",
              "          google.colab.kernel.accessAllowed ? 'block' : 'none';\n",
              "\n",
              "        async function convertToInteractive(key) {\n",
              "          const element = document.querySelector('#df-1876fa01-1c37-4548-88ac-c199a5b58773');\n",
              "          const dataTable =\n",
              "            await google.colab.kernel.invokeFunction('convertToInteractive',\n",
              "                                                     [key], {});\n",
              "          if (!dataTable) return;\n",
              "\n",
              "          const docLinkHtml = 'Like what you see? Visit the ' +\n",
              "            '<a target=\"_blank\" href=https://colab.research.google.com/notebooks/data_table.ipynb>data table notebook</a>'\n",
              "            + ' to learn more about interactive tables.';\n",
              "          element.innerHTML = '';\n",
              "          dataTable['output_type'] = 'display_data';\n",
              "          await google.colab.output.renderOutput(dataTable, element);\n",
              "          const docLink = document.createElement('div');\n",
              "          docLink.innerHTML = docLinkHtml;\n",
              "          element.appendChild(docLink);\n",
              "        }\n",
              "      </script>\n",
              "    </div>\n",
              "  </div>\n",
              "  "
            ]
          },
          "metadata": {},
          "execution_count": 30
        }
      ],
      "source": [
        "moviesDF.filter(moviesDF.genres.contains('Comedy')).limit(10).toPandas()"
      ]
    },
    {
      "cell_type": "markdown",
      "metadata": {
        "id": "wW6nPYoAab84"
      },
      "source": [
        "#### Display the TOP rated Comedy Movies (not aggregated)\n"
      ]
    },
    {
      "cell_type": "code",
      "execution_count": 31,
      "metadata": {
        "scrolled": false,
        "colab": {
          "base_uri": "https://localhost:8080/"
        },
        "id": "YLwy-7F2ab84",
        "outputId": "d23aadf8-b5f8-41ca-87e0-896b0c17873d"
      },
      "outputs": [
        {
          "output_type": "stream",
          "name": "stdout",
          "text": [
            "+-------+----------------------------------------------------+---------------------------------------------------+------+------+\n",
            "|movieId|title                                               |genres                                             |userId|rating|\n",
            "+-------+----------------------------------------------------+---------------------------------------------------+------+------+\n",
            "|31878  |Kung Fu Hustle (Gong fu) (2004)                     |Action|Comedy                                      |4     |5.0   |\n",
            "|1234   |Sting, The (1973)                                   |Comedy|Crime                                       |10    |5.0   |\n",
            "|34162  |Wedding Crashers (2005)                             |Comedy|Romance                                     |4     |5.0   |\n",
            "|608    |Fargo (1996)                                        |Comedy|Crime|Drama|Thriller                        |4     |5.0   |\n",
            "|296    |Pulp Fiction (1994)                                 |Comedy|Crime|Drama|Thriller                        |5     |5.0   |\n",
            "|1396   |Sneakers (1992)                                     |Action|Comedy|Crime|Drama|Sci-Fi                   |4     |5.0   |\n",
            "|778    |Trainspotting (1996)                                |Comedy|Crime|Drama                                 |5     |5.0   |\n",
            "|1527   |Fifth Element, The (1997)                           |Action|Adventure|Comedy|Sci-Fi                     |4     |5.0   |\n",
            "|1732   |Big Lebowski, The (1998)                            |Comedy|Crime                                       |5     |5.0   |\n",
            "|2502   |Office Space (1999)                                 |Comedy|Crime                                       |4     |5.0   |\n",
            "|4973   |Amelie (Fabuleux destin d'Amélie Poulain, Le) (2001)|Comedy|Romance                                     |5     |5.0   |\n",
            "|4306   |Shrek (2001)                                        |Adventure|Animation|Children|Comedy|Fantasy|Romance|4     |5.0   |\n",
            "|44195  |Thank You for Smoking (2006)                        |Comedy|Drama                                       |5     |5.0   |\n",
            "|8360   |Shrek 2 (2004)                                      |Adventure|Animation|Children|Comedy|Musical|Romance|4     |5.0   |\n",
            "|46976  |Stranger than Fiction (2006)                        |Comedy|Drama|Fantasy|Romance                       |5     |5.0   |\n",
            "|224    |Don Juan DeMarco (1995)                             |Comedy|Drama|Romance                               |6     |5.0   |\n",
            "|141    |Birdcage, The (1996)                                |Comedy                                             |8     |5.0   |\n",
            "|296    |Pulp Fiction (1994)                                 |Comedy|Crime|Drama|Thriller                        |4     |5.0   |\n",
            "|1      |Toy Story (1995)                                    |Adventure|Animation|Children|Comedy|Fantasy        |10    |5.0   |\n",
            "|1425   |Fierce Creatures (1997)                             |Comedy                                             |4     |5.0   |\n",
            "+-------+----------------------------------------------------+---------------------------------------------------+------+------+\n",
            "only showing top 20 rows\n",
            "\n"
          ]
        }
      ],
      "source": [
        "moviesDF.filter(moviesDF.genres.contains('Comedy')) \\\n",
        "    .join(ratingsDF, \"movieId\") \\\n",
        "    .sort(col(\"rating\").desc()) \\\n",
        "    .show(20, truncate=False)"
      ]
    },
    {
      "cell_type": "markdown",
      "metadata": {
        "id": "aTUOByPBab84"
      },
      "source": [
        "#### Count of Comedy Movies Grouped By Rating "
      ]
    },
    {
      "cell_type": "code",
      "execution_count": 32,
      "metadata": {
        "scrolled": true,
        "colab": {
          "base_uri": "https://localhost:8080/"
        },
        "id": "7OIUJzVaab84",
        "outputId": "1485049d-0d33-4905-944a-4d2c5004bd6d"
      },
      "outputs": [
        {
          "output_type": "stream",
          "name": "stdout",
          "text": [
            "+------+-------+\n",
            "|rating|count  |\n",
            "+------+-------+\n",
            "|0.5   |187410 |\n",
            "|1.0   |386705 |\n",
            "|1.5   |188873 |\n",
            "|2.0   |773957 |\n",
            "|2.5   |555232 |\n",
            "|3.0   |2149866|\n",
            "|3.5   |1222753|\n",
            "|4.0   |2544453|\n",
            "|4.5   |722715 |\n",
            "|5.0   |1267220|\n",
            "+------+-------+\n",
            "\n"
          ]
        }
      ],
      "source": [
        "moviesDF.filter(moviesDF.genres.contains('Comedy')) \\\n",
        "    .join(ratingsDF, \"movieId\") \\\n",
        "    .groupBy(col(\"rating\")).count().orderBy(\"rating\") \\\n",
        "    .show(20, truncate=False)"
      ]
    },
    {
      "cell_type": "markdown",
      "metadata": {
        "id": "YngY7DFkab84"
      },
      "source": [
        "#### MOST Rated Comedy Movies - No matter the rating"
      ]
    },
    {
      "cell_type": "code",
      "execution_count": 33,
      "metadata": {
        "scrolled": true,
        "colab": {
          "base_uri": "https://localhost:8080/"
        },
        "id": "ZhlCdOARab85",
        "outputId": "18877357-7c32-49c1-fa62-8725e8d02f70"
      },
      "outputs": [
        {
          "output_type": "stream",
          "name": "stdout",
          "text": [
            "+-------+-----+\n",
            "|movieId|count|\n",
            "+-------+-----+\n",
            "|356    |97040|\n",
            "|296    |92406|\n",
            "|1      |68469|\n",
            "|1270   |57492|\n",
            "|608    |54500|\n",
            "|588    |51827|\n",
            "|380    |50864|\n",
            "|4306   |46826|\n",
            "|344    |45608|\n",
            "|1580   |44287|\n",
            "|1197   |42878|\n",
            "|1136   |40866|\n",
            "|1265   |40836|\n",
            "|6539   |39674|\n",
            "|367    |38699|\n",
            "|153    |38647|\n",
            "|597    |38504|\n",
            "|500    |38484|\n",
            "|231    |37823|\n",
            "|4973   |37167|\n",
            "+-------+-----+\n",
            "only showing top 20 rows\n",
            "\n"
          ]
        }
      ],
      "source": [
        "moviesDF.filter(moviesDF.genres.contains('Comedy')) \\\n",
        "    .join(ratingsDF, \"movieId\") \\\n",
        "    .groupBy(col(\"movieId\")).count().orderBy(\"count\", ascending=False) \\\n",
        "    .show(20, truncate=False)"
      ]
    },
    {
      "cell_type": "markdown",
      "metadata": {
        "id": "NYMWAzoOab85"
      },
      "source": [
        "#### Most Rated Comedy Movies, grouped by Movie & Rating\n"
      ]
    },
    {
      "cell_type": "code",
      "execution_count": 34,
      "metadata": {
        "scrolled": false,
        "colab": {
          "base_uri": "https://localhost:8080/"
        },
        "id": "bEcKckLOab85",
        "outputId": "bfe53a06-27cd-4d02-a426-9cb4092183f5"
      },
      "outputs": [
        {
          "output_type": "stream",
          "name": "stdout",
          "text": [
            "+-------+--------------------------------------+------+-----+\n",
            "|movieId|title                                 |rating|count|\n",
            "+-------+--------------------------------------+------+-----+\n",
            "|296    |Pulp Fiction (1994)                   |5.0   |37458|\n",
            "|356    |Forrest Gump (1994)                   |5.0   |32009|\n",
            "|356    |Forrest Gump (1994)                   |4.0   |27799|\n",
            "|1      |Toy Story (1995)                      |4.0   |22710|\n",
            "|296    |Pulp Fiction (1994)                   |4.0   |22604|\n",
            "|1270   |Back to the Future (1985)             |4.0   |19223|\n",
            "|608    |Fargo (1996)                          |5.0   |18616|\n",
            "|588    |Aladdin (1992)                        |4.0   |17150|\n",
            "|153    |Batman Forever (1995)                 |3.0   |16892|\n",
            "|608    |Fargo (1996)                          |4.0   |16635|\n",
            "|1      |Toy Story (1995)                      |5.0   |16497|\n",
            "|380    |True Lies (1994)                      |3.0   |16389|\n",
            "|380    |True Lies (1994)                      |4.0   |15726|\n",
            "|1197   |Princess Bride, The (1987)            |5.0   |15259|\n",
            "|344    |Ace Ventura: Pet Detective (1994)     |3.0   |14989|\n",
            "|4306   |Shrek (2001)                          |4.0   |14594|\n",
            "|1580   |Men in Black (a.k.a. MIB) (1997)      |4.0   |14104|\n",
            "|588    |Aladdin (1992)                        |3.0   |13945|\n",
            "|1265   |Groundhog Day (1993)                  |4.0   |13854|\n",
            "|1136   |Monty Python and the Holy Grail (1975)|5.0   |13810|\n",
            "+-------+--------------------------------------+------+-----+\n",
            "only showing top 20 rows\n",
            "\n"
          ]
        }
      ],
      "source": [
        "moviesDF.filter(moviesDF.genres.contains('Comedy')) \\\n",
        "    .join(ratingsDF, \"movieId\") \\\n",
        "    .groupBy(col(\"movieId\"),col(\"title\"), col(\"rating\")).count().orderBy(\"count\", ascending=False) \\\n",
        "    .show(20, truncate=False)"
      ]
    },
    {
      "cell_type": "code",
      "execution_count": 35,
      "metadata": {
        "scrolled": true,
        "id": "3sYuvAdxab85"
      },
      "outputs": [],
      "source": [
        "from pyspark.sql.functions import *"
      ]
    },
    {
      "cell_type": "markdown",
      "metadata": {
        "id": "4ubOrkQsab85"
      },
      "source": [
        "#### Top Rated Comedy Movies with most ratings"
      ]
    },
    {
      "cell_type": "code",
      "source": [
        "genre = \"Comedy\""
      ],
      "metadata": {
        "id": "Z48HUODFgmnh"
      },
      "execution_count": 36,
      "outputs": []
    },
    {
      "cell_type": "code",
      "execution_count": 37,
      "metadata": {
        "scrolled": false,
        "colab": {
          "base_uri": "https://localhost:8080/"
        },
        "id": "ciUYCyuvab85",
        "outputId": "c593f993-bb9f-4552-9026-461011d83359"
      },
      "outputs": [
        {
          "output_type": "stream",
          "name": "stdout",
          "text": [
            "+-------+--------------------+--------------------+-----+\n",
            "|movieId|               title|              genres|count|\n",
            "+-------+--------------------+--------------------+-----+\n",
            "|    356| Forrest Gump (1994)|Comedy|Drama|Roma...|97040|\n",
            "|    296| Pulp Fiction (1994)|Comedy|Crime|Dram...|92406|\n",
            "|      1|    Toy Story (1995)|Adventure|Animati...|68469|\n",
            "|   1270|Back to the Futur...|Adventure|Comedy|...|57492|\n",
            "|    608|        Fargo (1996)|Comedy|Crime|Dram...|54500|\n",
            "|    588|      Aladdin (1992)|Adventure|Animati...|51827|\n",
            "|    380|    True Lies (1994)|Action|Adventure|...|50864|\n",
            "|   4306|        Shrek (2001)|Adventure|Animati...|46826|\n",
            "|    344|Ace Ventura: Pet ...|              Comedy|45608|\n",
            "|   1580|Men in Black (a.k...|Action|Comedy|Sci-Fi|44287|\n",
            "|   1197|Princess Bride, T...|Action|Adventure|...|42878|\n",
            "|   1136|Monty Python and ...|Adventure|Comedy|...|40866|\n",
            "|   1265|Groundhog Day (1993)|Comedy|Fantasy|Ro...|40836|\n",
            "|   6539|Pirates of the Ca...|Action|Adventure|...|39674|\n",
            "|    367|    Mask, The (1994)|Action|Comedy|Cri...|38699|\n",
            "|    153|Batman Forever (1...|Action|Adventure|...|38647|\n",
            "|    597| Pretty Woman (1990)|      Comedy|Romance|38504|\n",
            "|    500|Mrs. Doubtfire (1...|        Comedy|Drama|38484|\n",
            "|    231|Dumb & Dumber (Du...|    Adventure|Comedy|37823|\n",
            "|   4973|Amelie (Fabuleux ...|      Comedy|Romance|37167|\n",
            "+-------+--------------------+--------------------+-----+\n",
            "only showing top 20 rows\n",
            "\n"
          ]
        }
      ],
      "source": [
        "genreMovieDF = moviesDF.filter(moviesDF.genres.contains(genre))\n",
        "    \n",
        "moviesByRating_counts = genreMovieDF \\\n",
        "        .join(ratingsDF, \"movieId\") \\\n",
        "        .groupBy(\"movieId\").count().alias(\"count\").orderBy(desc(\"count\"))\n",
        "        #.groupBy(\"movieId\").count().alias(\"ratings count\").orderBy(desc(\"count\"))\n",
        "\n",
        "movieByRating_Full = genreMovieDF.join(moviesByRating_counts, \"movieId\") \\\n",
        "                                  .dropDuplicates().orderBy(desc(\"count\"))\n",
        "    \n",
        "movieByRating_Full.show(20)"
      ]
    },
    {
      "cell_type": "code",
      "execution_count": 38,
      "metadata": {
        "scrolled": true,
        "colab": {
          "base_uri": "https://localhost:8080/"
        },
        "id": "MBx3ICU3ab85",
        "outputId": "d7054997-f5f3-4b2b-eaa3-e4e8dc33f2eb"
      },
      "outputs": [
        {
          "output_type": "execute_result",
          "data": {
            "text/plain": [
              "14961"
            ]
          },
          "metadata": {},
          "execution_count": 38
        }
      ],
      "source": [
        "movieByRating_Full.count()"
      ]
    },
    {
      "cell_type": "code",
      "execution_count": 39,
      "metadata": {
        "id": "7YNuk2DWab85"
      },
      "outputs": [],
      "source": [
        "movieByRating_Full.coalesce(1) \\\n",
        "      .write \\\n",
        "      .option(\"header\",\"true\") \\\n",
        "      .option(\"sep\",\",\") \\\n",
        "      .mode(\"overwrite\") \\\n",
        "      .csv(\"movie_output.csv\")\n",
        "#      .csv(\"file:///path/output/file\") \\"
      ]
    },
    {
      "cell_type": "markdown",
      "metadata": {
        "id": "F539BeZXab86"
      },
      "source": [
        "#### Get User Input"
      ]
    },
    {
      "cell_type": "code",
      "execution_count": 41,
      "metadata": {
        "colab": {
          "base_uri": "https://localhost:8080/"
        },
        "id": "1CZ393chab86",
        "outputId": "fd60d97b-13d2-46bd-adfb-9858ff1f4173"
      },
      "outputs": [
        {
          "name": "stdout",
          "output_type": "stream",
          "text": [
            "Please rate the following movie (1-5 (best), or 0 if not seen):\n",
            "Mina Tannenbaum (1994):\n",
            "5\n",
            "Please rate the following movie (1-5 (best), or 0 if not seen):\n",
            "Bang (1995):\n",
            "4\n",
            "Please rate the following movie (1-5 (best), or 0 if not seen):\n",
            "Map of the World, A (1999):\n",
            "4\n",
            "Please rate the following movie (1-5 (best), or 0 if not seen):\n",
            "Orphans of the Storm (1921):\n",
            "4\n",
            "Please rate the following movie (1-5 (best), or 0 if not seen):\n",
            "Lucía, Lucía (Hija del caníbal, La) (2003):\n",
            "5\n",
            "Please rate the following movie (1-5 (best), or 0 if not seen):\n",
            "Blood of Heroes, The (Salute of the Jugger, The) (1989):\n",
            "4\n",
            "Please rate the following movie (1-5 (best), or 0 if not seen):\n",
            "Italian Job, The (1969):\n",
            "1\n",
            "Please rate the following movie (1-5 (best), or 0 if not seen):\n",
            "Crimson Gold (Talaye sorgh) (2003):\n",
            "4\n",
            "Please rate the following movie (1-5 (best), or 0 if not seen):\n",
            "Damned, The (La Caduta degli dei) (1969):\n",
            "1\n",
            "Please rate the following movie (1-5 (best), or 0 if not seen):\n",
            "To Hell and Back (1955):\n",
            "2\n",
            "Please rate the following movie (1-5 (best), or 0 if not seen):\n",
            "Sweet Bird of Youth (1962):\n",
            "3\n",
            "Please rate the following movie (1-5 (best), or 0 if not seen):\n",
            "Police Academy: Mission to Moscow (1994):\n",
            "2\n",
            "Please rate the following movie (1-5 (best), or 0 if not seen):\n",
            "xXx: State of the Union (2005):\n",
            "1\n",
            "Please rate the following movie (1-5 (best), or 0 if not seen):\n",
            "The Inner Circle (1991):\n",
            "5\n",
            "Please rate the following movie (1-5 (best), or 0 if not seen):\n",
            "Southland Tales (2006):\n",
            "4\n",
            "Please rate the following movie (1-5 (best), or 0 if not seen):\n",
            "Untraceable (2008):\n",
            "2\n",
            "Please rate the following movie (1-5 (best), or 0 if not seen):\n",
            "In the City of Sylvia (En la ciudad de Sylvia) (2007):\n",
            "5\n",
            "Please rate the following movie (1-5 (best), or 0 if not seen):\n",
            "Caged (1950):\n",
            "4\n",
            "Please rate the following movie (1-5 (best), or 0 if not seen):\n",
            "Yellow Handkerchief, The (2008):\n",
            "1\n",
            "Please rate the following movie (1-5 (best), or 0 if not seen):\n",
            "Ménilmontant (1926):\n",
            "4\n",
            "Please rate the following movie (1-5 (best), or 0 if not seen):\n",
            "Fruitvale Station (2013):\n",
            "5\n",
            "Please rate the following movie (1-5 (best), or 0 if not seen):\n",
            "Escape in the Fog (1945):\n",
            "4\n",
            "Please rate the following movie (1-5 (best), or 0 if not seen):\n",
            "No Retreat, No Surrender 2: Raging Thunder (1987):\n",
            "0\n",
            "Please rate the following movie (1-5 (best), or 0 if not seen):\n",
            "Kenny Rogers as The Gambler, Part III: The Legend Continues (1987):\n",
            "0\n",
            "Please rate the following movie (1-5 (best), or 0 if not seen):\n",
            "Hayride (2012):\n",
            "0\n",
            "Please rate the following movie (1-5 (best), or 0 if not seen):\n",
            "Mayor Cupcake (2011):\n",
            "0\n",
            "Please rate the following movie (1-5 (best), or 0 if not seen):\n",
            "Dancing Co-Ed (1939):\n",
            "0\n",
            "Please rate the following movie (1-5 (best), or 0 if not seen):\n",
            "The Questor Tapes (1974):\n",
            "2\n",
            "Please rate the following movie (1-5 (best), or 0 if not seen):\n",
            "Muck (2015):\n",
            "3\n",
            "Please rate the following movie (1-5 (best), or 0 if not seen):\n",
            "Bill Maher: I'm Swiss (2005):\n",
            "1\n",
            "Please rate the following movie (1-5 (best), or 0 if not seen):\n",
            "Stripped (2013):\n",
            "2\n",
            "Please rate the following movie (1-5 (best), or 0 if not seen):\n",
            "The Baroness and the Butler (1938):\n",
            "5\n",
            "Please rate the following movie (1-5 (best), or 0 if not seen):\n",
            "Next Goal Wins (2014):\n",
            "4\n",
            "Please rate the following movie (1-5 (best), or 0 if not seen):\n",
            "Deprisa, Deprisa (1981):\n",
            "1\n",
            "Please rate the following movie (1-5 (best), or 0 if not seen):\n",
            "Argo 2 (2015):\n",
            "2\n",
            "Please rate the following movie (1-5 (best), or 0 if not seen):\n",
            "The Crow's Nest (2014):\n",
            "3\n",
            "Please rate the following movie (1-5 (best), or 0 if not seen):\n",
            "The Exiles (1961):\n",
            "2\n",
            "Please rate the following movie (1-5 (best), or 0 if not seen):\n",
            "Iceland (1942):\n",
            "5\n",
            "Please rate the following movie (1-5 (best), or 0 if not seen):\n",
            "The Favor (2007):\n",
            "4\n",
            "Please rate the following movie (1-5 (best), or 0 if not seen):\n",
            "The Secret Place (1957):\n",
            "1\n",
            "Please rate the following movie (1-5 (best), or 0 if not seen):\n",
            "The Land Before Time XIV: Journey of the Brave (2016):\n",
            "2\n",
            "Please rate the following movie (1-5 (best), or 0 if not seen):\n",
            "Dancehall Queen (1997):\n",
            "5\n",
            "Please rate the following movie (1-5 (best), or 0 if not seen):\n",
            "The Void (2016):\n",
            "0\n",
            "Please rate the following movie (1-5 (best), or 0 if not seen):\n",
            "Che vuoi che sia (2016):\n",
            "2\n",
            "Please rate the following movie (1-5 (best), or 0 if not seen):\n",
            "Harmony (2015):\n",
            "0\n",
            "Please rate the following movie (1-5 (best), or 0 if not seen):\n",
            "Nijinsky (1980):\n",
            "2\n",
            "Please rate the following movie (1-5 (best), or 0 if not seen):\n",
            "Run (2002):\n",
            "0\n"
          ]
        }
      ],
      "source": [
        "4\n",
        "5# This Cell does not work on Jupyter unfortunately \n",
        "# due to Pyspark limited Python libraries integration\n",
        "# This need py4j integration and a call to scala/java\n",
        "# code for that is provided as a standalone pyton program\n",
        "\n",
        "\n",
        "for row in sampleDF.rdd.collect(): \n",
        "    print(\"Please rate the following movie (1-5 (best), or 0 if not seen):\\n\" + row.title + \":\")\n",
        "    rate = int(input())"
      ]
    },
    {
      "cell_type": "code",
      "execution_count": 42,
      "metadata": {
        "scrolled": true,
        "colab": {
          "base_uri": "https://localhost:8080/"
        },
        "id": "DcGQ4RqOab86",
        "outputId": "b12b92fe-73e4-4c2b-d150-de8d80388f75"
      },
      "outputs": [
        {
          "output_type": "stream",
          "name": "stdout",
          "text": [
            "+-------+------------------------------------------------+--------------------------------+------+------+\n",
            "|movieId|title                                           |genres                          |userId|rating|\n",
            "+-------+------------------------------------------------+--------------------------------+------+------+\n",
            "|307    |Three Colors: Blue (Trois couleurs: Bleu) (1993)|Drama                           |1     |3.5   |\n",
            "|481    |Kalifornia (1993)                               |Drama|Thriller                  |1     |3.5   |\n",
            "|1091   |Weekend at Bernie's (1989)                      |Comedy                          |1     |1.5   |\n",
            "|1257   |Better Off Dead... (1985)                       |Comedy|Romance                  |1     |4.5   |\n",
            "|1449   |Waiting for Guffman (1996)                      |Comedy                          |1     |4.5   |\n",
            "|1590   |Event Horizon (1997)                            |Horror|Sci-Fi|Thriller          |1     |2.5   |\n",
            "|1591   |Spawn (1997)                                    |Action|Adventure|Sci-Fi|Thriller|1     |1.5   |\n",
            "|2134   |Weird Science (1985)                            |Comedy|Fantasy|Sci-Fi           |1     |4.5   |\n",
            "|2478   |¡Three Amigos! (1986)                           |Comedy|Western                  |1     |4.0   |\n",
            "|2840   |Stigmata (1999)                                 |Drama|Thriller                  |1     |3.0   |\n",
            "+-------+------------------------------------------------+--------------------------------+------+------+\n",
            "only showing top 10 rows\n",
            "\n"
          ]
        }
      ],
      "source": [
        "joinDf = moviesDF.join(ratingsDF, \"movieId\")\n",
        "joinDf.show(10, False)"
      ]
    },
    {
      "cell_type": "code",
      "execution_count": 43,
      "metadata": {
        "scrolled": true,
        "colab": {
          "base_uri": "https://localhost:8080/"
        },
        "id": "Jn9P9I6lab86",
        "outputId": "7ed3be2d-0b60-4f3f-d927-ff32875aecfb"
      },
      "outputs": [
        {
          "output_type": "execute_result",
          "data": {
            "text/plain": [
              "DataFrame[rating: double, count: bigint]"
            ]
          },
          "metadata": {},
          "execution_count": 43
        }
      ],
      "source": [
        "ratingsDF.distinct().groupBy(\"rating\").count()"
      ]
    },
    {
      "cell_type": "markdown",
      "metadata": {
        "id": "geCzSYWrab86"
      },
      "source": [
        "<hr style=\"border:1px solid blue\"></hr>"
      ]
    },
    {
      "cell_type": "markdown",
      "metadata": {
        "id": "IqRQhaPRab86"
      },
      "source": [
        "### MODELING PART\n",
        "\n",
        "### Model Training"
      ]
    },
    {
      "cell_type": "markdown",
      "metadata": {
        "id": "kkeEE1kZab86"
      },
      "source": [
        "### Splitting data into training & test sets"
      ]
    },
    {
      "cell_type": "code",
      "execution_count": 44,
      "metadata": {
        "id": "DkTi-Jauab87"
      },
      "outputs": [],
      "source": [
        "\n",
        "trainingDF,testDF = ratingsDF.randomSplit([0.8, 0.2], seed=12345)\n",
        "\n",
        "# Got 1000209 ratings from 6040 users on 3883 movies.\n",
        "#print(\"Training {}, test {}.\".format(trainingDF.count(), testDF.count()))"
      ]
    },
    {
      "cell_type": "markdown",
      "metadata": {
        "id": "c34viON0ab87"
      },
      "source": [
        "### Timing Utility"
      ]
    },
    {
      "cell_type": "code",
      "execution_count": 45,
      "metadata": {
        "id": "9Reh6mtJab87"
      },
      "outputs": [],
      "source": [
        "from time import time\n",
        "from datetime import timedelta\n",
        "\n",
        "class T():\n",
        "    def __enter__(self):\n",
        "        self.start = time()\n",
        "    def __exit__(self, type, value, traceback):\n",
        "        self.end = time()\n",
        "        elapsed = self.end - self.start\n",
        "        print(str(timedelta(seconds=elapsed)))"
      ]
    },
    {
      "cell_type": "code",
      "execution_count": 46,
      "metadata": {
        "scrolled": true,
        "colab": {
          "base_uri": "https://localhost:8080/"
        },
        "id": "uQXmqdoeab87",
        "outputId": "ee1b3d96-9219-404b-c882-544927d3344a"
      },
      "outputs": [
        {
          "output_type": "execute_result",
          "data": {
            "text/plain": [
              "DataFrame[userId: int, movieId: int, rating: double]"
            ]
          },
          "metadata": {},
          "execution_count": 46
        }
      ],
      "source": [
        "trainingDF.cache()"
      ]
    },
    {
      "cell_type": "code",
      "execution_count": 47,
      "metadata": {
        "scrolled": true,
        "colab": {
          "base_uri": "https://localhost:8080/"
        },
        "id": "xmdnYT64ab87",
        "outputId": "fa30cd1c-6482-4b87-86ee-c04ed4a7ec8e"
      },
      "outputs": [
        {
          "output_type": "execute_result",
          "data": {
            "text/plain": [
              "DataFrame[userId: int, movieId: int, rating: double]"
            ]
          },
          "metadata": {},
          "execution_count": 47
        }
      ],
      "source": [
        "testDF.cache()"
      ]
    },
    {
      "cell_type": "code",
      "execution_count": 48,
      "metadata": {
        "colab": {
          "base_uri": "https://localhost:8080/"
        },
        "id": "6qQLUmsbab88",
        "outputId": "f72a62f1-d043-4665-ba4d-98532b7294a4"
      },
      "outputs": [
        {
          "output_type": "execute_result",
          "data": {
            "text/plain": [
              "281940"
            ]
          },
          "metadata": {},
          "execution_count": 48
        }
      ],
      "source": [
        "trainingDF.select(\"userId\").distinct().count()"
      ]
    },
    {
      "cell_type": "code",
      "execution_count": 49,
      "metadata": {
        "colab": {
          "base_uri": "https://localhost:8080/"
        },
        "id": "dC5cJ2iSab88",
        "outputId": "8cfe6ecd-b07d-4037-e2e4-9a77b2646e6f"
      },
      "outputs": [
        {
          "output_type": "execute_result",
          "data": {
            "text/plain": [
              "264084"
            ]
          },
          "metadata": {},
          "execution_count": 49
        }
      ],
      "source": [
        "testDF.select(\"userId\").distinct().count()"
      ]
    },
    {
      "cell_type": "markdown",
      "metadata": {
        "id": "ApSXC-xTab88"
      },
      "source": [
        "At this point it is interesting to see that there might be users on the test dataset  \n",
        "that have no occurence in the training dataset, as the figures below can possibly suggest"
      ]
    },
    {
      "cell_type": "markdown",
      "metadata": {
        "id": "X_1vMJCeab88"
      },
      "source": [
        "### Training ALS model on the data\n"
      ]
    },
    {
      "cell_type": "code",
      "execution_count": 50,
      "metadata": {
        "scrolled": true,
        "id": "NgMbbGUtab88"
      },
      "outputs": [],
      "source": [
        "\n",
        "from pyspark.ml.recommendation import ALS\n",
        "\n",
        "als = ALS(maxIter=5,\n",
        "          regParam=0.01, \n",
        "          implicitPrefs=False, \n",
        "          userCol=\"userId\", \n",
        "          itemCol=\"movieId\", \n",
        "          ratingCol=\"rating\", \n",
        "          coldStartStrategy=\"drop\")"
      ]
    },
    {
      "cell_type": "code",
      "execution_count": 51,
      "metadata": {
        "scrolled": true,
        "colab": {
          "base_uri": "https://localhost:8080/"
        },
        "id": "2yOsdbg6ab88",
        "outputId": "f8bc5347-32c0-43dc-b2b4-ecb2cc8a69b8"
      },
      "outputs": [
        {
          "output_type": "stream",
          "name": "stdout",
          "text": [
            "0:04:38.872982\n"
          ]
        }
      ],
      "source": [
        "# Fit Model (just a test - DO NOT RUN if you still need to cross-validate)\n",
        "\n",
        "with T():\n",
        "    model = als.fit(trainingDF)"
      ]
    },
    {
      "cell_type": "markdown",
      "metadata": {
        "id": "TMlajlctab89"
      },
      "source": [
        "<hr style=\"border:1px solid blue\"></hr>"
      ]
    },
    {
      "cell_type": "markdown",
      "metadata": {
        "id": "6SdY3CKVab89"
      },
      "source": [
        "### Cross Validation & Model Selection"
      ]
    },
    {
      "cell_type": "code",
      "execution_count": 52,
      "metadata": {
        "id": "AW4iG8Axab89"
      },
      "outputs": [],
      "source": [
        "from pyspark.ml.tuning import CrossValidator, ParamGridBuilder\n",
        "\n",
        "# WARNING : THIS CAN ESCALATE VERY QUICKLY, EVEN WITH ONLY TWO MODELS TO BE TESTED\n",
        "# UNLESS YOU ARE ABLE TO NARROW DOWN AND LOWER ITERATIONS CONSIDERABLY, \n",
        "# YOU WOULD BETTER AVOID THIS STEP ALL TOGETHER\n",
        "\n",
        "# NOTE THAT USING AN RMSE MINIMIZING LOOP CAN ALSO DO THE JOB\n",
        "\n",
        "#param_grid = ParamGridBuilder() \\\n",
        "#            .addGrid(als.rank, [10, 50, 100, 150]) \\\n",
        "#            .addGrid(als.regParam, [.01, .05, .1, .15]) \\\n",
        "#            .build()\n",
        "\n",
        "#param_grid = ParamGridBuilder() \\\n",
        "#            .addGrid(als.rank, [50, 100]) \\\n",
        "#            .addGrid(als.regParam, [.05, .1]) \\\n",
        "#            .build()\n",
        "\n",
        "param_grid = ParamGridBuilder() \\\n",
        "            .addGrid(als.rank, [50]) \\\n",
        "            .addGrid(als.regParam, [.05]) \\\n",
        "            .build()"
      ]
    },
    {
      "cell_type": "code",
      "execution_count": 53,
      "metadata": {
        "colab": {
          "base_uri": "https://localhost:8080/"
        },
        "id": "eX1Prtcyab89",
        "outputId": "87182331-30da-4bf0-8e2e-03addb9dab3f"
      },
      "outputs": [
        {
          "output_type": "stream",
          "name": "stdout",
          "text": [
            "Num models to be tested:  1\n"
          ]
        }
      ],
      "source": [
        "from pyspark.ml.evaluation import RegressionEvaluator\n",
        "\n",
        "# Define evaluator as RMSE and print length of evaluator\n",
        "evaluator = RegressionEvaluator(\n",
        "           metricName=\"rmse\", \n",
        "           labelCol=\"rating\", \n",
        "           predictionCol=\"prediction\") \n",
        "\n",
        "print (\"Num models to be tested: \", len(param_grid))"
      ]
    },
    {
      "cell_type": "code",
      "execution_count": 54,
      "metadata": {
        "id": "mWNgwZwLab89"
      },
      "outputs": [],
      "source": [
        "cv = CrossValidator(estimator=als, \\\n",
        "                    estimatorParamMaps=param_grid, \\\n",
        "                    evaluator=evaluator, \\\n",
        "                    numFolds=5 , \\\n",
        "                    parallelism=4) # this last parallelism param is crucial for increasing performance"
      ]
    },
    {
      "cell_type": "markdown",
      "metadata": {
        "id": "5KOYh3voab89"
      },
      "source": [
        "### Fit The Cross Validator \n",
        "#### *(Optional - VERY Time Consuming)*"
      ]
    },
    {
      "cell_type": "code",
      "execution_count": 78,
      "metadata": {
        "id": "eF3oix3eab89"
      },
      "outputs": [],
      "source": [
        "# WARNING : Running this from a notebook hooked to Spark through Livy \n",
        "# will end up in a timeout after waiting for a long time\n",
        "# the job will still be running but it will be abruptly be killed due to a timeout setting\n",
        "# you need to setup livy.server.session.timeout and extend it to 1h  in livy.conf on the server, and restart livy\n",
        "# livy.server.session.state-retain.sec = 600s => move to 3600s \n",
        "# location : /etc/livy/conf/livy.conf\n",
        "\n",
        "# check spark web UI\n",
        "# check generated DAGs\n",
        "# check memory usage\n",
        "\n",
        "#cvModel = cv.fit(trainingDF)"
      ]
    },
    {
      "cell_type": "markdown",
      "metadata": {
        "id": "CdMHXbQEab89"
      },
      "source": [
        "<hr style=\"border:1px solid blue\"></hr>"
      ]
    },
    {
      "cell_type": "markdown",
      "metadata": {
        "id": "xqz63lqoab8-"
      },
      "source": [
        "### Model Evaluation"
      ]
    },
    {
      "cell_type": "code",
      "execution_count": 57,
      "metadata": {
        "id": "rvU85l0Nab8-"
      },
      "outputs": [],
      "source": [
        "# Evaluate the model by computing the RMSE on the Rating Predictions established for test data\n",
        "\n",
        "predictions = model.transform(testDF)\n"
      ]
    },
    {
      "cell_type": "code",
      "execution_count": 58,
      "metadata": {
        "scrolled": true,
        "id": "U8bgPeGQab8-",
        "colab": {
          "base_uri": "https://localhost:8080/"
        },
        "outputId": "54421a7f-35b4-49ed-b558-56540def2894"
      },
      "outputs": [
        {
          "output_type": "execute_result",
          "data": {
            "text/plain": [
              "['userId', 'movieId', 'rating', 'prediction']"
            ]
          },
          "metadata": {},
          "execution_count": 58
        }
      ],
      "source": [
        "predictions.columns"
      ]
    },
    {
      "cell_type": "code",
      "execution_count": 59,
      "metadata": {
        "scrolled": true,
        "id": "OXsd0XzDab8-",
        "colab": {
          "base_uri": "https://localhost:8080/"
        },
        "outputId": "0b88d5d7-a339-4290-85a3-6b84b25c2f63"
      },
      "outputs": [
        {
          "output_type": "stream",
          "name": "stdout",
          "text": [
            "+------+-------+------+\n",
            "|userId|movieId|rating|\n",
            "+------+-------+------+\n",
            "|    12|     45|   3.0|\n",
            "|    12|    105|   3.0|\n",
            "|    12|    186|   2.5|\n",
            "|    12|    596|   2.0|\n",
            "|    12|   1090|   3.5|\n",
            "|    12|   1094|   2.0|\n",
            "|    12|   1380|   3.0|\n",
            "|    12|   1639|   2.5|\n",
            "|    12|   2001|   3.0|\n",
            "|    12|   2012|   1.5|\n",
            "|    12|   2100|   2.5|\n",
            "|    12|   2302|   2.5|\n",
            "|    12|   2353|   2.5|\n",
            "|    12|   2406|   3.0|\n",
            "|    12|   2502|   3.5|\n",
            "|    12|   2657|   2.0|\n",
            "|    12|   3897|   3.0|\n",
            "+------+-------+------+\n",
            "\n"
          ]
        }
      ],
      "source": [
        "trainingDF.filter(testDF.userId == \"12\").show()"
      ]
    },
    {
      "cell_type": "code",
      "execution_count": 60,
      "metadata": {
        "id": "sDol9yAhab8-",
        "colab": {
          "base_uri": "https://localhost:8080/"
        },
        "outputId": "ffd2bdb1-20c1-4292-bc0b-1ba0be644706"
      },
      "outputs": [
        {
          "output_type": "stream",
          "name": "stdout",
          "text": [
            "+------+-------+------+\n",
            "|userId|movieId|rating|\n",
            "+------+-------+------+\n",
            "|    12|     48|   2.5|\n",
            "+------+-------+------+\n",
            "\n"
          ]
        }
      ],
      "source": [
        "testDF.filter(testDF.userId == \"12\").show()"
      ]
    },
    {
      "cell_type": "code",
      "execution_count": 61,
      "metadata": {
        "scrolled": false,
        "id": "4MNP0R3wab8-",
        "colab": {
          "base_uri": "https://localhost:8080/"
        },
        "outputId": "f1244086-ad10-441b-b048-efc0457f6b39"
      },
      "outputs": [
        {
          "output_type": "stream",
          "name": "stdout",
          "text": [
            "+------+-------+------+\n",
            "|userId|movieId|rating|\n",
            "+------+-------+------+\n",
            "|1     |1591   |1.5   |\n",
            "|2     |2108   |3.5   |\n",
            "|2     |2243   |4.5   |\n",
            "|2     |2915   |3.5   |\n",
            "|3     |1645   |4.0   |\n",
            "|4     |11     |3.5   |\n",
            "|4     |20     |2.5   |\n",
            "|4     |70     |3.0   |\n",
            "|4     |186    |2.0   |\n",
            "|4     |204    |3.5   |\n",
            "+------+-------+------+\n",
            "only showing top 10 rows\n",
            "\n"
          ]
        }
      ],
      "source": [
        "testDF.show(10, False)"
      ]
    },
    {
      "cell_type": "code",
      "execution_count": 62,
      "metadata": {
        "scrolled": true,
        "id": "mgwxsr0Sab8-",
        "colab": {
          "base_uri": "https://localhost:8080/"
        },
        "outputId": "6ff39f4d-7031-4085-a670-d698daed2831"
      },
      "outputs": [
        {
          "output_type": "stream",
          "name": "stdout",
          "text": [
            "+------+-----+\n",
            "|userId|count|\n",
            "+------+-----+\n",
            "|148   |10   |\n",
            "|463   |19   |\n",
            "|471   |68   |\n",
            "|496   |4    |\n",
            "|833   |3    |\n",
            "|1088  |1    |\n",
            "|1238  |1    |\n",
            "|1580  |6    |\n",
            "|1591  |11   |\n",
            "|1645  |39   |\n",
            "+------+-----+\n",
            "only showing top 10 rows\n",
            "\n"
          ]
        }
      ],
      "source": [
        "testDF.groupBy(\"userId\").count().show(10, False)"
      ]
    },
    {
      "cell_type": "code",
      "execution_count": 63,
      "metadata": {
        "id": "1MCEbDIDab8_",
        "colab": {
          "base_uri": "https://localhost:8080/"
        },
        "outputId": "c88974a1-eee9-4a5a-f1ff-ef1ac7b8bbf1"
      },
      "outputs": [
        {
          "output_type": "stream",
          "name": "stdout",
          "text": [
            "+------+-------+------+----------+\n",
            "|userId|movieId|rating|prediction|\n",
            "+------+-------+------+----------+\n",
            "|1     |1591   |1.5   |2.2372599 |\n",
            "|3     |1645   |4.0   |3.7062025 |\n",
            "|4     |1591   |3.5   |2.5644405 |\n",
            "|4     |3997   |2.0   |2.0732276 |\n",
            "|19    |1088   |3.0   |3.2564762 |\n",
            "|26    |3175   |5.0   |3.7172058 |\n",
            "|36    |6620   |4.5   |3.8806386 |\n",
            "|46    |1580   |4.0   |3.2685893 |\n",
            "|51    |1580   |3.0   |3.9766283 |\n",
            "|67    |1580   |1.0   |3.3921664 |\n",
            "+------+-------+------+----------+\n",
            "only showing top 10 rows\n",
            "\n",
            "0:01:40.047394\n"
          ]
        }
      ],
      "source": [
        "with T():\n",
        "    predictions.show(10, False)"
      ]
    },
    {
      "cell_type": "code",
      "execution_count": 64,
      "metadata": {
        "scrolled": true,
        "id": "uSULhpViab8_",
        "colab": {
          "base_uri": "https://localhost:8080/"
        },
        "outputId": "3bfacadf-2915-4840-8bdb-f8621eed75c9"
      },
      "outputs": [
        {
          "output_type": "stream",
          "name": "stdout",
          "text": [
            "+------+-----+\n",
            "|userId|count|\n",
            "+------+-----+\n",
            "|6336  |211  |\n",
            "|11141 |67   |\n",
            "|16339 |48   |\n",
            "|18051 |110  |\n",
            "|20924 |35   |\n",
            "|21700 |27   |\n",
            "|24171 |45   |\n",
            "|28088 |65   |\n",
            "|28146 |10   |\n",
            "|31261 |1    |\n",
            "+------+-----+\n",
            "only showing top 10 rows\n",
            "\n"
          ]
        }
      ],
      "source": [
        "predictions.groupBy(\"userId\").count().show(10, False)"
      ]
    },
    {
      "cell_type": "markdown",
      "metadata": {
        "id": "P5XvzpiWab8_"
      },
      "source": [
        "### Evaluate using Regression Evaluator"
      ]
    },
    {
      "cell_type": "code",
      "execution_count": 65,
      "metadata": {
        "id": "WdutPcnTab8_",
        "colab": {
          "base_uri": "https://localhost:8080/"
        },
        "outputId": "b85c6396-55fd-4f30-e844-66af11cf03d3"
      },
      "outputs": [
        {
          "output_type": "stream",
          "name": "stdout",
          "text": [
            "Root-mean-square error = 0.8419904615630303\n"
          ]
        }
      ],
      "source": [
        "from pyspark.ml.evaluation import RegressionEvaluator\n",
        "\n",
        "evaluator = RegressionEvaluator(metricName=\"rmse\", labelCol=\"rating\",\n",
        "                                predictionCol=\"prediction\")\n",
        "\n",
        "# Lower values of RMSE indicate better fit\n",
        "\n",
        "rmse = evaluator.evaluate(predictions)\n",
        "print(\"Root-mean-square error = \" + str(rmse))"
      ]
    },
    {
      "cell_type": "markdown",
      "metadata": {
        "id": "MfAiG4d8ab8_"
      },
      "source": [
        "<hr style=\"border:1px solid blue\"></hr>"
      ]
    },
    {
      "cell_type": "markdown",
      "metadata": {
        "id": "RLGgoUbqab8_"
      },
      "source": [
        "### Model Utilization"
      ]
    },
    {
      "cell_type": "markdown",
      "metadata": {
        "id": "w_bAP0Dyab8_"
      },
      "source": [
        "#### Generate recommendations for each user"
      ]
    },
    {
      "cell_type": "code",
      "execution_count": 66,
      "metadata": {
        "id": "WcSNvPQKab9A"
      },
      "outputs": [],
      "source": [
        "# CAUTION : This takes too much time to compute\n",
        "# Use subsets instead (cell below)\n",
        "\n",
        "# Generate top 10 movie recommendations for each user\n",
        "userRecs = model.recommendForAllUsers(10)\n",
        "\n",
        "# Generate top 10 user recommendations for each movie\n",
        "movieRecs = model.recommendForAllItems(10)"
      ]
    },
    {
      "cell_type": "markdown",
      "metadata": {
        "id": "_rj_JsI6ab9A"
      },
      "source": [
        "#### Generate recommendations for a subset of user"
      ]
    },
    {
      "cell_type": "code",
      "execution_count": 67,
      "metadata": {
        "id": "Nvf7Uqqyab9A"
      },
      "outputs": [],
      "source": [
        "# Generate top 10 movie recommendations for a specified set of users\n",
        "users = ratingsDF.select(als.getUserCol()).distinct().limit(3)\n",
        "userSubsetRecs = model.recommendForUserSubset(users, 10)\n",
        "\n",
        "# Generate top 10 user recommendations for a specified set of movies\n",
        "movies = ratingsDF.select(als.getItemCol()).distinct().limit(3)\n",
        "movieSubSetRecs = model.recommendForItemSubset(movies, 10)"
      ]
    },
    {
      "cell_type": "code",
      "execution_count": 68,
      "metadata": {
        "scrolled": false,
        "id": "044sKB83ab9A",
        "colab": {
          "base_uri": "https://localhost:8080/"
        },
        "outputId": "38baa5fd-3b06-40e2-ac79-47c8527a4208"
      },
      "outputs": [
        {
          "output_type": "stream",
          "name": "stdout",
          "text": [
            "+------+-----------------------------------------------------------------------------------------------------------------------------------------------------------------------------------------------------------+\n",
            "|userId|recommendations                                                                                                                                                                                            |\n",
            "+------+-----------------------------------------------------------------------------------------------------------------------------------------------------------------------------------------------------------+\n",
            "|471   |[{141532, 8.394004}, {119165, 8.369208}, {154876, 8.369208}, {159467, 8.289714}, {183917, 7.811831}, {135310, 7.691615}, {177921, 7.691615}, {143833, 7.691615}, {178353, 7.691615}, {186233, 7.691615}]   |\n",
            "|463   |[{182521, 8.265824}, {74404, 7.719043}, {173945, 7.282906}, {92046, 6.9142375}, {58207, 6.8270464}, {159467, 6.8158584}, {178397, 6.6647997}, {118542, 6.5935154}, {108544, 6.5566745}, {159305, 6.530072}]|\n",
            "|148   |[{173945, 10.885974}, {83569, 10.295656}, {167106, 10.037029}, {159213, 9.795081}, {141532, 9.703269}, {142562, 9.682619}, {77344, 9.401201}, {159305, 9.387438}, {178397, 9.34328}, {156684, 9.172641}]   |\n",
            "+------+-----------------------------------------------------------------------------------------------------------------------------------------------------------------------------------------------------------+\n",
            "\n"
          ]
        }
      ],
      "source": [
        "userSubsetRecs.show(10, False)"
      ]
    },
    {
      "cell_type": "code",
      "execution_count": 69,
      "metadata": {
        "scrolled": false,
        "id": "1yPHH3wpab9A",
        "colab": {
          "base_uri": "https://localhost:8080/",
          "height": 143
        },
        "outputId": "03b00bc4-13bd-4f03-8f36-483e37d89673"
      },
      "outputs": [
        {
          "output_type": "execute_result",
          "data": {
            "text/plain": [
              "   userId                                    recommendations\n",
              "0     471  [(141532, 8.394003868103027), (119165, 8.36920...\n",
              "1     463  [(182521, 8.265824317932129), (74404, 7.719042...\n",
              "2     148  [(173945, 10.885973930358887), (83569, 10.2956..."
            ],
            "text/html": [
              "\n",
              "  <div id=\"df-b2b39dd1-f7ef-45a3-a95b-49f82cea7b99\">\n",
              "    <div class=\"colab-df-container\">\n",
              "      <div>\n",
              "<style scoped>\n",
              "    .dataframe tbody tr th:only-of-type {\n",
              "        vertical-align: middle;\n",
              "    }\n",
              "\n",
              "    .dataframe tbody tr th {\n",
              "        vertical-align: top;\n",
              "    }\n",
              "\n",
              "    .dataframe thead th {\n",
              "        text-align: right;\n",
              "    }\n",
              "</style>\n",
              "<table border=\"1\" class=\"dataframe\">\n",
              "  <thead>\n",
              "    <tr style=\"text-align: right;\">\n",
              "      <th></th>\n",
              "      <th>userId</th>\n",
              "      <th>recommendations</th>\n",
              "    </tr>\n",
              "  </thead>\n",
              "  <tbody>\n",
              "    <tr>\n",
              "      <th>0</th>\n",
              "      <td>471</td>\n",
              "      <td>[(141532, 8.394003868103027), (119165, 8.36920...</td>\n",
              "    </tr>\n",
              "    <tr>\n",
              "      <th>1</th>\n",
              "      <td>463</td>\n",
              "      <td>[(182521, 8.265824317932129), (74404, 7.719042...</td>\n",
              "    </tr>\n",
              "    <tr>\n",
              "      <th>2</th>\n",
              "      <td>148</td>\n",
              "      <td>[(173945, 10.885973930358887), (83569, 10.2956...</td>\n",
              "    </tr>\n",
              "  </tbody>\n",
              "</table>\n",
              "</div>\n",
              "      <button class=\"colab-df-convert\" onclick=\"convertToInteractive('df-b2b39dd1-f7ef-45a3-a95b-49f82cea7b99')\"\n",
              "              title=\"Convert this dataframe to an interactive table.\"\n",
              "              style=\"display:none;\">\n",
              "        \n",
              "  <svg xmlns=\"http://www.w3.org/2000/svg\" height=\"24px\"viewBox=\"0 0 24 24\"\n",
              "       width=\"24px\">\n",
              "    <path d=\"M0 0h24v24H0V0z\" fill=\"none\"/>\n",
              "    <path d=\"M18.56 5.44l.94 2.06.94-2.06 2.06-.94-2.06-.94-.94-2.06-.94 2.06-2.06.94zm-11 1L8.5 8.5l.94-2.06 2.06-.94-2.06-.94L8.5 2.5l-.94 2.06-2.06.94zm10 10l.94 2.06.94-2.06 2.06-.94-2.06-.94-.94-2.06-.94 2.06-2.06.94z\"/><path d=\"M17.41 7.96l-1.37-1.37c-.4-.4-.92-.59-1.43-.59-.52 0-1.04.2-1.43.59L10.3 9.45l-7.72 7.72c-.78.78-.78 2.05 0 2.83L4 21.41c.39.39.9.59 1.41.59.51 0 1.02-.2 1.41-.59l7.78-7.78 2.81-2.81c.8-.78.8-2.07 0-2.86zM5.41 20L4 18.59l7.72-7.72 1.47 1.35L5.41 20z\"/>\n",
              "  </svg>\n",
              "      </button>\n",
              "      \n",
              "  <style>\n",
              "    .colab-df-container {\n",
              "      display:flex;\n",
              "      flex-wrap:wrap;\n",
              "      gap: 12px;\n",
              "    }\n",
              "\n",
              "    .colab-df-convert {\n",
              "      background-color: #E8F0FE;\n",
              "      border: none;\n",
              "      border-radius: 50%;\n",
              "      cursor: pointer;\n",
              "      display: none;\n",
              "      fill: #1967D2;\n",
              "      height: 32px;\n",
              "      padding: 0 0 0 0;\n",
              "      width: 32px;\n",
              "    }\n",
              "\n",
              "    .colab-df-convert:hover {\n",
              "      background-color: #E2EBFA;\n",
              "      box-shadow: 0px 1px 2px rgba(60, 64, 67, 0.3), 0px 1px 3px 1px rgba(60, 64, 67, 0.15);\n",
              "      fill: #174EA6;\n",
              "    }\n",
              "\n",
              "    [theme=dark] .colab-df-convert {\n",
              "      background-color: #3B4455;\n",
              "      fill: #D2E3FC;\n",
              "    }\n",
              "\n",
              "    [theme=dark] .colab-df-convert:hover {\n",
              "      background-color: #434B5C;\n",
              "      box-shadow: 0px 1px 3px 1px rgba(0, 0, 0, 0.15);\n",
              "      filter: drop-shadow(0px 1px 2px rgba(0, 0, 0, 0.3));\n",
              "      fill: #FFFFFF;\n",
              "    }\n",
              "  </style>\n",
              "\n",
              "      <script>\n",
              "        const buttonEl =\n",
              "          document.querySelector('#df-b2b39dd1-f7ef-45a3-a95b-49f82cea7b99 button.colab-df-convert');\n",
              "        buttonEl.style.display =\n",
              "          google.colab.kernel.accessAllowed ? 'block' : 'none';\n",
              "\n",
              "        async function convertToInteractive(key) {\n",
              "          const element = document.querySelector('#df-b2b39dd1-f7ef-45a3-a95b-49f82cea7b99');\n",
              "          const dataTable =\n",
              "            await google.colab.kernel.invokeFunction('convertToInteractive',\n",
              "                                                     [key], {});\n",
              "          if (!dataTable) return;\n",
              "\n",
              "          const docLinkHtml = 'Like what you see? Visit the ' +\n",
              "            '<a target=\"_blank\" href=https://colab.research.google.com/notebooks/data_table.ipynb>data table notebook</a>'\n",
              "            + ' to learn more about interactive tables.';\n",
              "          element.innerHTML = '';\n",
              "          dataTable['output_type'] = 'display_data';\n",
              "          await google.colab.output.renderOutput(dataTable, element);\n",
              "          const docLink = document.createElement('div');\n",
              "          docLink.innerHTML = docLinkHtml;\n",
              "          element.appendChild(docLink);\n",
              "        }\n",
              "      </script>\n",
              "    </div>\n",
              "  </div>\n",
              "  "
            ]
          },
          "metadata": {},
          "execution_count": 69
        }
      ],
      "source": [
        "userSubsetRecs.limit(10).toPandas()"
      ]
    },
    {
      "cell_type": "markdown",
      "metadata": {
        "id": "PJ0uS-aAab9A"
      },
      "source": [
        "<hr style=\"border:1px solid blue\"></hr>"
      ]
    },
    {
      "cell_type": "markdown",
      "metadata": {
        "id": "2MmLUHHdab9A"
      },
      "source": [
        "### Data Formatting"
      ]
    },
    {
      "cell_type": "code",
      "execution_count": 70,
      "metadata": {
        "id": "Z50a6leGab9B"
      },
      "outputs": [],
      "source": [
        "# Get model recommendation for users based on their rating \n",
        "# You will notice that the Returned Dataframe has nested values \n",
        "# DataFrame[userId: int, recommendations: array<struct<movieId:int,rating:float>>]\n",
        "# You will also notice that predicted ratings are all over the place\n",
        "# This is not strictly an issue as it is not used \"directly\" and it can be ignored. \n",
        "# For more info see: https://stackoverflow.com/q/29051520/426332\n",
        "\n",
        "recoDF = userSubsetRecs.limit(10)\n",
        "#.toPandas()"
      ]
    },
    {
      "cell_type": "markdown",
      "metadata": {
        "id": "8xeQVIn-ab9B"
      },
      "source": [
        "#### Data Formatting & Join for staging & presentation"
      ]
    },
    {
      "cell_type": "code",
      "execution_count": 71,
      "metadata": {
        "scrolled": false,
        "id": "B5qfC4R4ab9B",
        "colab": {
          "base_uri": "https://localhost:8080/",
          "height": 990
        },
        "outputId": "36b7b5e7-000d-4956-da6c-d40d79ad9b28"
      },
      "outputs": [
        {
          "output_type": "execute_result",
          "data": {
            "text/plain": [
              "    userId  movieId                                              title\n",
              "0      148    77344           Chizuko's Younger Sister (Futari) (1991)\n",
              "1      148    83569  Eros Plus Massacre (Erosu purasu Gyakusatsu) (...\n",
              "2      148   141532                                   Retrieval (2006)\n",
              "3      148   142562                                The Ceremony (2014)\n",
              "4      148   156684                             A Good American (2014)\n",
              "5      148   159213                      The Chronicles of Evil (2015)\n",
              "6      148   159305                             Lezione ventuno (2008)\n",
              "7      148   167106                          Breaking a Monster (2015)\n",
              "8      148   173945                     The Wearing of the Grin (1951)\n",
              "9      148   178397                                      Jai Ho (2014)\n",
              "10     463    58207                  Out of the Blue (Aramoana) (2006)\n",
              "11     463    74404              Hero: Love Story of a Spy, The (2003)\n",
              "12     463    92046                                Contact High (2009)\n",
              "13     463   108544           Simple Life of Noah Dearborn, The (1999)\n",
              "14     463   118542           Emanuelle in Egypt (Velluto nero) (1976)\n",
              "15     463   159305                             Lezione ventuno (2008)\n",
              "16     463   159467                   Fifi Howls from Happiness (2013)\n",
              "17     463   173945                     The Wearing of the Grin (1951)\n",
              "18     463   178397                                      Jai Ho (2014)\n",
              "19     463   182521                                     Thakara (1979)\n",
              "20     471   119165                                 Lunch Break (2008)\n",
              "21     471   135310                             The Unfaithfuls (1953)\n",
              "22     471   141532                                   Retrieval (2006)\n",
              "23     471   143833                                The Thursday (1964)\n",
              "24     471   154876                                 Manufractur (1985)\n",
              "25     471   159467                   Fifi Howls from Happiness (2013)\n",
              "26     471   177921               Gesuzza, La Sposa Garibaldina (1934)\n",
              "27     471   178353                           Nothing But a Man (1964)\n",
              "28     471   183917                                   Christine (1987)\n",
              "29     471   186233                              The Scavengers (1970)"
            ],
            "text/html": [
              "\n",
              "  <div id=\"df-e1e9ebde-0e42-4c1a-bf1e-ae72dd58032c\">\n",
              "    <div class=\"colab-df-container\">\n",
              "      <div>\n",
              "<style scoped>\n",
              "    .dataframe tbody tr th:only-of-type {\n",
              "        vertical-align: middle;\n",
              "    }\n",
              "\n",
              "    .dataframe tbody tr th {\n",
              "        vertical-align: top;\n",
              "    }\n",
              "\n",
              "    .dataframe thead th {\n",
              "        text-align: right;\n",
              "    }\n",
              "</style>\n",
              "<table border=\"1\" class=\"dataframe\">\n",
              "  <thead>\n",
              "    <tr style=\"text-align: right;\">\n",
              "      <th></th>\n",
              "      <th>userId</th>\n",
              "      <th>movieId</th>\n",
              "      <th>title</th>\n",
              "    </tr>\n",
              "  </thead>\n",
              "  <tbody>\n",
              "    <tr>\n",
              "      <th>0</th>\n",
              "      <td>148</td>\n",
              "      <td>77344</td>\n",
              "      <td>Chizuko's Younger Sister (Futari) (1991)</td>\n",
              "    </tr>\n",
              "    <tr>\n",
              "      <th>1</th>\n",
              "      <td>148</td>\n",
              "      <td>83569</td>\n",
              "      <td>Eros Plus Massacre (Erosu purasu Gyakusatsu) (...</td>\n",
              "    </tr>\n",
              "    <tr>\n",
              "      <th>2</th>\n",
              "      <td>148</td>\n",
              "      <td>141532</td>\n",
              "      <td>Retrieval (2006)</td>\n",
              "    </tr>\n",
              "    <tr>\n",
              "      <th>3</th>\n",
              "      <td>148</td>\n",
              "      <td>142562</td>\n",
              "      <td>The Ceremony (2014)</td>\n",
              "    </tr>\n",
              "    <tr>\n",
              "      <th>4</th>\n",
              "      <td>148</td>\n",
              "      <td>156684</td>\n",
              "      <td>A Good American (2014)</td>\n",
              "    </tr>\n",
              "    <tr>\n",
              "      <th>5</th>\n",
              "      <td>148</td>\n",
              "      <td>159213</td>\n",
              "      <td>The Chronicles of Evil (2015)</td>\n",
              "    </tr>\n",
              "    <tr>\n",
              "      <th>6</th>\n",
              "      <td>148</td>\n",
              "      <td>159305</td>\n",
              "      <td>Lezione ventuno (2008)</td>\n",
              "    </tr>\n",
              "    <tr>\n",
              "      <th>7</th>\n",
              "      <td>148</td>\n",
              "      <td>167106</td>\n",
              "      <td>Breaking a Monster (2015)</td>\n",
              "    </tr>\n",
              "    <tr>\n",
              "      <th>8</th>\n",
              "      <td>148</td>\n",
              "      <td>173945</td>\n",
              "      <td>The Wearing of the Grin (1951)</td>\n",
              "    </tr>\n",
              "    <tr>\n",
              "      <th>9</th>\n",
              "      <td>148</td>\n",
              "      <td>178397</td>\n",
              "      <td>Jai Ho (2014)</td>\n",
              "    </tr>\n",
              "    <tr>\n",
              "      <th>10</th>\n",
              "      <td>463</td>\n",
              "      <td>58207</td>\n",
              "      <td>Out of the Blue (Aramoana) (2006)</td>\n",
              "    </tr>\n",
              "    <tr>\n",
              "      <th>11</th>\n",
              "      <td>463</td>\n",
              "      <td>74404</td>\n",
              "      <td>Hero: Love Story of a Spy, The (2003)</td>\n",
              "    </tr>\n",
              "    <tr>\n",
              "      <th>12</th>\n",
              "      <td>463</td>\n",
              "      <td>92046</td>\n",
              "      <td>Contact High (2009)</td>\n",
              "    </tr>\n",
              "    <tr>\n",
              "      <th>13</th>\n",
              "      <td>463</td>\n",
              "      <td>108544</td>\n",
              "      <td>Simple Life of Noah Dearborn, The (1999)</td>\n",
              "    </tr>\n",
              "    <tr>\n",
              "      <th>14</th>\n",
              "      <td>463</td>\n",
              "      <td>118542</td>\n",
              "      <td>Emanuelle in Egypt (Velluto nero) (1976)</td>\n",
              "    </tr>\n",
              "    <tr>\n",
              "      <th>15</th>\n",
              "      <td>463</td>\n",
              "      <td>159305</td>\n",
              "      <td>Lezione ventuno (2008)</td>\n",
              "    </tr>\n",
              "    <tr>\n",
              "      <th>16</th>\n",
              "      <td>463</td>\n",
              "      <td>159467</td>\n",
              "      <td>Fifi Howls from Happiness (2013)</td>\n",
              "    </tr>\n",
              "    <tr>\n",
              "      <th>17</th>\n",
              "      <td>463</td>\n",
              "      <td>173945</td>\n",
              "      <td>The Wearing of the Grin (1951)</td>\n",
              "    </tr>\n",
              "    <tr>\n",
              "      <th>18</th>\n",
              "      <td>463</td>\n",
              "      <td>178397</td>\n",
              "      <td>Jai Ho (2014)</td>\n",
              "    </tr>\n",
              "    <tr>\n",
              "      <th>19</th>\n",
              "      <td>463</td>\n",
              "      <td>182521</td>\n",
              "      <td>Thakara (1979)</td>\n",
              "    </tr>\n",
              "    <tr>\n",
              "      <th>20</th>\n",
              "      <td>471</td>\n",
              "      <td>119165</td>\n",
              "      <td>Lunch Break (2008)</td>\n",
              "    </tr>\n",
              "    <tr>\n",
              "      <th>21</th>\n",
              "      <td>471</td>\n",
              "      <td>135310</td>\n",
              "      <td>The Unfaithfuls (1953)</td>\n",
              "    </tr>\n",
              "    <tr>\n",
              "      <th>22</th>\n",
              "      <td>471</td>\n",
              "      <td>141532</td>\n",
              "      <td>Retrieval (2006)</td>\n",
              "    </tr>\n",
              "    <tr>\n",
              "      <th>23</th>\n",
              "      <td>471</td>\n",
              "      <td>143833</td>\n",
              "      <td>The Thursday (1964)</td>\n",
              "    </tr>\n",
              "    <tr>\n",
              "      <th>24</th>\n",
              "      <td>471</td>\n",
              "      <td>154876</td>\n",
              "      <td>Manufractur (1985)</td>\n",
              "    </tr>\n",
              "    <tr>\n",
              "      <th>25</th>\n",
              "      <td>471</td>\n",
              "      <td>159467</td>\n",
              "      <td>Fifi Howls from Happiness (2013)</td>\n",
              "    </tr>\n",
              "    <tr>\n",
              "      <th>26</th>\n",
              "      <td>471</td>\n",
              "      <td>177921</td>\n",
              "      <td>Gesuzza, La Sposa Garibaldina (1934)</td>\n",
              "    </tr>\n",
              "    <tr>\n",
              "      <th>27</th>\n",
              "      <td>471</td>\n",
              "      <td>178353</td>\n",
              "      <td>Nothing But a Man (1964)</td>\n",
              "    </tr>\n",
              "    <tr>\n",
              "      <th>28</th>\n",
              "      <td>471</td>\n",
              "      <td>183917</td>\n",
              "      <td>Christine (1987)</td>\n",
              "    </tr>\n",
              "    <tr>\n",
              "      <th>29</th>\n",
              "      <td>471</td>\n",
              "      <td>186233</td>\n",
              "      <td>The Scavengers (1970)</td>\n",
              "    </tr>\n",
              "  </tbody>\n",
              "</table>\n",
              "</div>\n",
              "      <button class=\"colab-df-convert\" onclick=\"convertToInteractive('df-e1e9ebde-0e42-4c1a-bf1e-ae72dd58032c')\"\n",
              "              title=\"Convert this dataframe to an interactive table.\"\n",
              "              style=\"display:none;\">\n",
              "        \n",
              "  <svg xmlns=\"http://www.w3.org/2000/svg\" height=\"24px\"viewBox=\"0 0 24 24\"\n",
              "       width=\"24px\">\n",
              "    <path d=\"M0 0h24v24H0V0z\" fill=\"none\"/>\n",
              "    <path d=\"M18.56 5.44l.94 2.06.94-2.06 2.06-.94-2.06-.94-.94-2.06-.94 2.06-2.06.94zm-11 1L8.5 8.5l.94-2.06 2.06-.94-2.06-.94L8.5 2.5l-.94 2.06-2.06.94zm10 10l.94 2.06.94-2.06 2.06-.94-2.06-.94-.94-2.06-.94 2.06-2.06.94z\"/><path d=\"M17.41 7.96l-1.37-1.37c-.4-.4-.92-.59-1.43-.59-.52 0-1.04.2-1.43.59L10.3 9.45l-7.72 7.72c-.78.78-.78 2.05 0 2.83L4 21.41c.39.39.9.59 1.41.59.51 0 1.02-.2 1.41-.59l7.78-7.78 2.81-2.81c.8-.78.8-2.07 0-2.86zM5.41 20L4 18.59l7.72-7.72 1.47 1.35L5.41 20z\"/>\n",
              "  </svg>\n",
              "      </button>\n",
              "      \n",
              "  <style>\n",
              "    .colab-df-container {\n",
              "      display:flex;\n",
              "      flex-wrap:wrap;\n",
              "      gap: 12px;\n",
              "    }\n",
              "\n",
              "    .colab-df-convert {\n",
              "      background-color: #E8F0FE;\n",
              "      border: none;\n",
              "      border-radius: 50%;\n",
              "      cursor: pointer;\n",
              "      display: none;\n",
              "      fill: #1967D2;\n",
              "      height: 32px;\n",
              "      padding: 0 0 0 0;\n",
              "      width: 32px;\n",
              "    }\n",
              "\n",
              "    .colab-df-convert:hover {\n",
              "      background-color: #E2EBFA;\n",
              "      box-shadow: 0px 1px 2px rgba(60, 64, 67, 0.3), 0px 1px 3px 1px rgba(60, 64, 67, 0.15);\n",
              "      fill: #174EA6;\n",
              "    }\n",
              "\n",
              "    [theme=dark] .colab-df-convert {\n",
              "      background-color: #3B4455;\n",
              "      fill: #D2E3FC;\n",
              "    }\n",
              "\n",
              "    [theme=dark] .colab-df-convert:hover {\n",
              "      background-color: #434B5C;\n",
              "      box-shadow: 0px 1px 3px 1px rgba(0, 0, 0, 0.15);\n",
              "      filter: drop-shadow(0px 1px 2px rgba(0, 0, 0, 0.3));\n",
              "      fill: #FFFFFF;\n",
              "    }\n",
              "  </style>\n",
              "\n",
              "      <script>\n",
              "        const buttonEl =\n",
              "          document.querySelector('#df-e1e9ebde-0e42-4c1a-bf1e-ae72dd58032c button.colab-df-convert');\n",
              "        buttonEl.style.display =\n",
              "          google.colab.kernel.accessAllowed ? 'block' : 'none';\n",
              "\n",
              "        async function convertToInteractive(key) {\n",
              "          const element = document.querySelector('#df-e1e9ebde-0e42-4c1a-bf1e-ae72dd58032c');\n",
              "          const dataTable =\n",
              "            await google.colab.kernel.invokeFunction('convertToInteractive',\n",
              "                                                     [key], {});\n",
              "          if (!dataTable) return;\n",
              "\n",
              "          const docLinkHtml = 'Like what you see? Visit the ' +\n",
              "            '<a target=\"_blank\" href=https://colab.research.google.com/notebooks/data_table.ipynb>data table notebook</a>'\n",
              "            + ' to learn more about interactive tables.';\n",
              "          element.innerHTML = '';\n",
              "          dataTable['output_type'] = 'display_data';\n",
              "          await google.colab.output.renderOutput(dataTable, element);\n",
              "          const docLink = document.createElement('div');\n",
              "          docLink.innerHTML = docLinkHtml;\n",
              "          element.appendChild(docLink);\n",
              "        }\n",
              "      </script>\n",
              "    </div>\n",
              "  </div>\n",
              "  "
            ]
          },
          "metadata": {},
          "execution_count": 71
        }
      ],
      "source": [
        "\n",
        "# Denormalize Recommendation Dataframe & explode the inner list so it can be selectable as a column   \n",
        "# and filter out the rating colums as we do not need it\n",
        "\n",
        "recoDF.select(col(\"userId\"),explode(col(\"recommendations\"))) \\\n",
        "      .select(col(\"userId\"),col(\"col.movieId\")) \\\n",
        "      .join(moviesDF,\"movieId\") \\\n",
        "      .orderBy(\"userId\") \\\n",
        "      .select(\"userId\", \"movieId\", \"title\") \\\n",
        "      .toPandas()"
      ]
    },
    {
      "cell_type": "code",
      "execution_count": 72,
      "metadata": {
        "scrolled": false,
        "id": "6lupfscPab9B",
        "colab": {
          "base_uri": "https://localhost:8080/"
        },
        "outputId": "5d82be37-66a8-407c-e0f3-62afc6de6566"
      },
      "outputs": [
        {
          "output_type": "stream",
          "name": "stdout",
          "text": [
            "+-------+----------------------------------------------------------------------------------------------------------------------------------------------------------------------------------------------------------+\n",
            "|movieId|recommendations                                                                                                                                                                                           |\n",
            "+-------+----------------------------------------------------------------------------------------------------------------------------------------------------------------------------------------------------------+\n",
            "|471    |[{143251, 7.6272025}, {95438, 6.987266}, {154312, 6.835834}, {80897, 6.7905974}, {80160, 6.771138}, {170242, 6.6508036}, {103220, 6.61769}, {46397, 6.6120667}, {1730, 6.6093507}, {153630, 6.586931}]    |\n",
            "|1591   |[{279618, 7.1030264}, {143251, 6.734741}, {200417, 6.6052356}, {237193, 6.472636}, {21742, 6.439523}, {35476, 6.249999}, {47480, 6.0774145}, {6303, 6.05433}, {8398, 6.0100737}, {164605, 5.940215}]      |\n",
            "|1645   |[{85885, 7.4875417}, {165969, 7.1411266}, {202801, 7.099961}, {2453, 7.0640097}, {78217, 7.0161586}, {19228, 6.9996915}, {235023, 6.998846}, {111118, 6.940919}, {253239, 6.7157884}, {259278, 6.6911817}]|\n",
            "+-------+----------------------------------------------------------------------------------------------------------------------------------------------------------------------------------------------------------+\n",
            "\n"
          ]
        }
      ],
      "source": [
        "movieSubSetRecs.show(10, False)"
      ]
    },
    {
      "cell_type": "code",
      "execution_count": 73,
      "metadata": {
        "id": "VPXzAetOab9B",
        "colab": {
          "base_uri": "https://localhost:8080/"
        },
        "outputId": "4b6dfc4b-f835-4c2f-f1cd-1dd16b6db1b7"
      },
      "outputs": [
        {
          "output_type": "stream",
          "name": "stdout",
          "text": [
            "+------+----------------------------------------------------------------------------------------------------------------------------------------------------------------------------------------------------------+\n",
            "|userId|recommendations                                                                                                                                                                                           |\n",
            "+------+----------------------------------------------------------------------------------------------------------------------------------------------------------------------------------------------------------+\n",
            "|12    |[{152003, 7.955855}, {141532, 7.6469603}, {169682, 7.5903697}, {178397, 7.372107}, {182521, 7.1692166}, {52108, 7.095045}, {188923, 7.034578}, {159467, 7.033757}, {154876, 7.028566}, {119165, 7.028566}]|\n",
            "+------+----------------------------------------------------------------------------------------------------------------------------------------------------------------------------------------------------------+\n",
            "\n"
          ]
        }
      ],
      "source": [
        "from pyspark.sql.functions import col\n",
        "\n",
        "# Recommendations for a specific user\n",
        "aUserId = 12\n",
        "recommandations = userRecs.filter(col(\"userId\") == aUserId)\n",
        "recommandations.show(1, False)"
      ]
    },
    {
      "cell_type": "code",
      "execution_count": 75,
      "metadata": {
        "id": "lOdEMTptab9B",
        "colab": {
          "base_uri": "https://localhost:8080/"
        },
        "outputId": "dfba2bf2-9b6f-4419-eb74-f2ee42479917"
      },
      "outputs": [
        {
          "output_type": "stream",
          "name": "stdout",
          "text": [
            "Recommandations for user 12 :\n",
            "+-------+--------------------------------------------------------+------------------+\n",
            "|movieId|title                                                   |genres            |\n",
            "+-------+--------------------------------------------------------+------------------+\n",
            "|152003 |Greenery Will Bloom Again (2014)                        |War               |\n",
            "|141532 |Retrieval (2006)                                        |(no genres listed)|\n",
            "|169682 |Fare (2017)                                             |Drama|Thriller    |\n",
            "|178397 |Jai Ho (2014)                                           |Action|Drama      |\n",
            "|182521 |Thakara (1979)                                          |(no genres listed)|\n",
            "|52108  |It's Impossible to Learn to Plow by Reading Books (1988)|Drama             |\n",
            "|188923 |49 Pulses (2017)                                        |(no genres listed)|\n",
            "|159467 |Fifi Howls from Happiness (2013)                        |Documentary       |\n",
            "|154876 |Manufractur (1985)                                      |(no genres listed)|\n",
            "|119165 |Lunch Break (2008)                                      |Documentary       |\n",
            "+-------+--------------------------------------------------------+------------------+\n",
            "\n"
          ]
        }
      ],
      "source": [
        "from pyspark.sql.functions import explode\n",
        "\n",
        "# Let's flatten the movie recommandations and look in detail\n",
        "userRecommandations = recommandations.select(\n",
        "  explode(col(\"recommendations\").movieId).alias(\"movieId\")\n",
        ")\n",
        "\n",
        "print(\"Recommandations for user {} :\".format(aUserId))\n",
        "\n",
        "moviesDF.join(userRecommandations, \"movieId\").show(10, False)"
      ]
    },
    {
      "cell_type": "code",
      "execution_count": 77,
      "metadata": {
        "scrolled": true,
        "id": "wo_Hyy-nab9B",
        "colab": {
          "base_uri": "https://localhost:8080/"
        },
        "outputId": "712329fe-7d92-46f0-b688-5b7705ee3be3"
      },
      "outputs": [
        {
          "output_type": "stream",
          "name": "stdout",
          "text": [
            "+-------+------+------+-------------------------------------+----------------------------------------+\n",
            "|movieId|userId|rating|title                                |genres                                  |\n",
            "+-------+------+------+-------------------------------------+----------------------------------------+\n",
            "|1090   |12    |3.5   |Platoon (1986)                       |Drama|War                               |\n",
            "|2502   |12    |3.5   |Office Space (1999)                  |Comedy|Crime                            |\n",
            "|1380   |12    |3.0   |Grease (1978)                        |Comedy|Musical|Romance                  |\n",
            "|45     |12    |3.0   |To Die For (1995)                    |Comedy|Drama|Thriller                   |\n",
            "|2001   |12    |3.0   |Lethal Weapon 2 (1989)               |Action|Comedy|Crime|Drama               |\n",
            "|2406   |12    |3.0   |Romancing the Stone (1984)           |Action|Adventure|Comedy|Romance         |\n",
            "|105    |12    |3.0   |Bridges of Madison County, The (1995)|Drama|Romance                           |\n",
            "|3897   |12    |3.0   |Almost Famous (2000)                 |Drama                                   |\n",
            "|48     |12    |2.5   |Pocahontas (1995)                    |Animation|Children|Drama|Musical|Romance|\n",
            "|1639   |12    |2.5   |Chasing Amy (1997)                   |Comedy|Drama|Romance                    |\n",
            "|2302   |12    |2.5   |My Cousin Vinny (1992)               |Comedy                                  |\n",
            "|2100   |12    |2.5   |Splash (1984)                        |Comedy|Fantasy|Romance                  |\n",
            "|186    |12    |2.5   |Nine Months (1995)                   |Comedy|Romance                          |\n",
            "|2353   |12    |2.5   |Enemy of the State (1998)            |Action|Thriller                         |\n",
            "|596    |12    |2.0   |Pinocchio (1940)                     |Animation|Children|Fantasy|Musical      |\n",
            "|1094   |12    |2.0   |Crying Game, The (1992)              |Drama|Romance|Thriller                  |\n",
            "|2657   |12    |2.0   |Rocky Horror Picture Show, The (1975)|Comedy|Horror|Musical|Sci-Fi            |\n",
            "|2012   |12    |1.5   |Back to the Future Part III (1990)   |Adventure|Comedy|Sci-Fi|Western         |\n",
            "+-------+------+------+-------------------------------------+----------------------------------------+\n",
            "\n"
          ]
        }
      ],
      "source": [
        "# Ratings from the user\n",
        "\n",
        "ratingsDF.filter(col(\"userId\") == aUserId) \\\n",
        "    .join(moviesDF, \"movieId\") \\\n",
        "    .sort(col(\"rating\").desc()) \\\n",
        "    .show(100, truncate=False)"
      ]
    },
    {
      "cell_type": "markdown",
      "metadata": {
        "id": "KQiblz0Rab9C"
      },
      "source": [
        "<hr style=\"border:1px solid blue\"></hr>"
      ]
    },
    {
      "cell_type": "markdown",
      "metadata": {
        "id": "TALxzRCdab9C"
      },
      "source": [
        "### Log Model Experiments with MLFlow"
      ]
    },
    {
      "cell_type": "markdown",
      "metadata": {
        "id": "38K8RIm1ab9C"
      },
      "source": [
        "\n",
        "#### Make SURE to read carefully the MLFLOW REAMDE FILE first\n"
      ]
    },
    {
      "cell_type": "code",
      "execution_count": 79,
      "metadata": {
        "scrolled": true,
        "id": "V8urYYucab9C"
      },
      "outputs": [],
      "source": [
        "# import mlflow\n",
        "# import mlflow.spark"
      ]
    },
    {
      "cell_type": "code",
      "execution_count": 80,
      "metadata": {
        "id": "MANgAy9xab9C"
      },
      "outputs": [],
      "source": [
        "#not necessary as it defaults to /mlruns\n",
        "# mlflow.set_tracking_uri(\"file:///path/to/mlruns\")"
      ]
    },
    {
      "cell_type": "code",
      "execution_count": 81,
      "metadata": {
        "id": "Z0kKNxvbab9C"
      },
      "outputs": [],
      "source": [
        "# mlflow.set_tracking_uri(\"file:///mlruns\")"
      ]
    },
    {
      "cell_type": "code",
      "execution_count": 82,
      "metadata": {
        "scrolled": false,
        "id": "tx7L5aGbab9C"
      },
      "outputs": [],
      "source": [
        "# mlflow.start_run()"
      ]
    },
    {
      "cell_type": "code",
      "execution_count": 83,
      "metadata": {
        "scrolled": true,
        "id": "2oMkXauxab9D"
      },
      "outputs": [],
      "source": [
        "# mlflow.spark.log_model(model, \"ALSmodel_Lite8\")"
      ]
    },
    {
      "cell_type": "code",
      "execution_count": 84,
      "metadata": {
        "id": "ExX2D6Bmab9D"
      },
      "outputs": [],
      "source": [
        "# print(\"Model saved in run %s\" % mlflow.active_run().info.run_uuid)"
      ]
    },
    {
      "cell_type": "code",
      "execution_count": 85,
      "metadata": {
        "scrolled": false,
        "id": "T0h8Krnzab9D"
      },
      "outputs": [],
      "source": [
        "# mlflow.end_run()"
      ]
    },
    {
      "cell_type": "markdown",
      "metadata": {
        "id": "V0bKNCruab9D"
      },
      "source": [
        "**Run MLFlow UI to check your model**\n",
        "```\n",
        "mlflow ui --backend-store-uri /mlrun --host 0.0.0.0&\n",
        "```\n",
        "\n",
        "go to http://YOUR.IP.ADD.RESS:5000 :"
      ]
    },
    {
      "cell_type": "markdown",
      "metadata": {
        "id": "G7UrcAJnab9D"
      },
      "source": [
        "### Serve Model with MLFlow"
      ]
    },
    {
      "cell_type": "markdown",
      "metadata": {
        "id": "xKMNiuNzab9D"
      },
      "source": [
        "```console\n",
        "# Serve & Curl Request Examples  \n",
        "(Make SURE to read carefully the MLFLOW REAMDE FILE first)\n",
        "\n",
        "mlflow models serve -m /mlruns/0/6c8050941d0744b8ac3652ff22d40983/artifacts/ALSmodel_Lite2 -h 0.0.0.0 --port 9999 --no-conda\n",
        "\n",
        "\n",
        "curl -X POST localhost:9999/invocations -H 'Content-Type: application/json; format=pandas-split' -d '{\"columns\":[\"userId\",\"movieId\",\"rating\"], \"data\":[[1311,144210,5,1604450652]]}'  \n",
        "\n",
        "curl --request POST http://localhost:9999/invocations --header 'Content-Type: application/json; format=pandas-split' --data @mlf_data.json\n",
        "\n",
        "curl -X POST http://localhost:9999/invocations -H 'Content-Type: application/json; format=pandas-split' -d @mlf_data.json\n",
        "```\n",
        "\n"
      ]
    }
  ],
  "metadata": {
    "kernelspec": {
      "display_name": "PySpark",
      "language": "",
      "name": "pysparkkernel"
    },
    "language_info": {
      "codemirror_mode": {
        "name": "python",
        "version": 3
      },
      "mimetype": "text/x-python",
      "name": "pyspark",
      "pygments_lexer": "python3"
    },
    "colab": {
      "provenance": []
    }
  },
  "nbformat": 4,
  "nbformat_minor": 0
}